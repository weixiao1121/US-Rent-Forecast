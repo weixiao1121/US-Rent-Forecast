{
 "cells": [
  {
   "cell_type": "code",
   "execution_count": 1,
   "id": "a0731b87-87ae-4aec-a5bc-5a4c6565695c",
   "metadata": {},
   "outputs": [],
   "source": [
    "import pandas as pd\n",
    "import numpy as np\n",
    "import matplotlib.pyplot as plt\n",
    "import seaborn as sns"
   ]
  },
  {
   "cell_type": "code",
   "execution_count": 2,
   "id": "d70b8989-29cb-463d-81ca-2227c3d5c47a",
   "metadata": {},
   "outputs": [
    {
     "data": {
      "text/plain": [
       "(265190, 22)"
      ]
     },
     "execution_count": 2,
     "metadata": {},
     "output_type": "execute_result"
    }
   ],
   "source": [
    "df = pd.read_csv('houseRent/housing_train.csv')\n",
    "df.shape"
   ]
  },
  {
   "cell_type": "code",
   "execution_count": 3,
   "id": "a1fd3661-d46a-47b0-aa9b-abd6b5619081",
   "metadata": {},
   "outputs": [
    {
     "data": {
      "text/plain": [
       "Index(['id', 'url', 'region', 'region_url', 'price', 'type', 'sqfeet', 'beds',\n",
       "       'baths', 'cats_allowed', 'dogs_allowed', 'smoking_allowed',\n",
       "       'wheelchair_access', 'electric_vehicle_charge', 'comes_furnished',\n",
       "       'laundry_options', 'parking_options', 'image_url', 'description', 'lat',\n",
       "       'long', 'state'],\n",
       "      dtype='object')"
      ]
     },
     "execution_count": 3,
     "metadata": {},
     "output_type": "execute_result"
    }
   ],
   "source": [
    "df.columns"
   ]
  },
  {
   "cell_type": "code",
   "execution_count": 4,
   "id": "e0740de7-b702-44dd-a78e-b5c1ee9adb9c",
   "metadata": {},
   "outputs": [
    {
     "name": "stdout",
     "output_type": "stream",
     "text": [
      "id \t\n",
      "265190\n",
      "url \t\n",
      "265190\n",
      "region \t\n",
      "298\n",
      "region_url \t\n",
      "305\n",
      "price \t\n",
      "3753\n",
      "type \t\n",
      "12\n",
      "sqfeet \t\n",
      "3037\n",
      "beds \t\n",
      "11\n",
      "baths \t\n",
      "19\n",
      "cats_allowed \t\n",
      "2\n",
      "dogs_allowed \t\n",
      "2\n",
      "smoking_allowed \t\n",
      "2\n",
      "wheelchair_access \t\n",
      "2\n",
      "electric_vehicle_charge \t\n",
      "2\n",
      "comes_furnished \t\n",
      "2\n",
      "laundry_options \t\n",
      "5\n",
      "parking_options \t\n",
      "7\n",
      "image_url \t\n",
      "125141\n",
      "description \t\n",
      "195471\n",
      "lat \t\n",
      "41959\n",
      "long \t\n",
      "39339\n",
      "state \t\n",
      "38\n"
     ]
    }
   ],
   "source": [
    "for col in df.columns:\n",
    "    print(col, '\\t')\n",
    "    print(df[col].nunique())"
   ]
  },
  {
   "cell_type": "markdown",
   "id": "57d4d9e3-c8bd-45e4-a440-5ec7305de03e",
   "metadata": {},
   "source": [
    "## Price"
   ]
  },
  {
   "cell_type": "code",
   "execution_count": 11,
   "id": "5fabf299-4eb3-451c-a741-4a9c0526c507",
   "metadata": {},
   "outputs": [
    {
     "data": {
      "text/plain": [
       "(798, 22)"
      ]
     },
     "execution_count": 11,
     "metadata": {},
     "output_type": "execute_result"
    }
   ],
   "source": [
    "df[df['price'] == 0].shape"
   ]
  },
  {
   "cell_type": "code",
   "execution_count": 17,
   "id": "05a59976-012c-4c3c-95c6-5a4580225179",
   "metadata": {},
   "outputs": [
    {
     "data": {
      "text/plain": [
       "2768307249"
      ]
     },
     "execution_count": 17,
     "metadata": {},
     "output_type": "execute_result"
    }
   ],
   "source": [
    "df['price'].max()"
   ]
  },
  {
   "cell_type": "code",
   "execution_count": 48,
   "id": "a08b1bba-3b91-4ec3-862d-b2f2cc20688b",
   "metadata": {},
   "outputs": [
    {
     "name": "stdout",
     "output_type": "stream",
     "text": [
      "(265190, 22)\n",
      "(106, 22)\n",
      "(182, 22)\n",
      "(801, 22)\n",
      "(1786, 22)\n",
      "(1487, 22)\n"
     ]
    }
   ],
   "source": [
    "print(df.shape)\n",
    "print(df[df['price'] > 20000].shape)\n",
    "print(df[df['price'] > 10000].shape)\n",
    "print(df[df['price'] > 5000].shape)\n",
    "print(df[df['price'] < 200].shape)\n",
    "print(df[df['price'] < 100].shape)\n"
   ]
  },
  {
   "cell_type": "code",
   "execution_count": 44,
   "id": "1e82f50d-94a2-48b2-9771-d4516664b808",
   "metadata": {
    "collapsed": true,
    "jupyter": {
     "outputs_hidden": true
    },
    "tags": []
   },
   "outputs": [
    {
     "name": "stdout",
     "output_type": "stream",
     "text": [
      "(106, 22)\n"
     ]
    },
    {
     "data": {
      "text/html": [
       "<div>\n",
       "<style scoped>\n",
       "    .dataframe tbody tr th:only-of-type {\n",
       "        vertical-align: middle;\n",
       "    }\n",
       "\n",
       "    .dataframe tbody tr th {\n",
       "        vertical-align: top;\n",
       "    }\n",
       "\n",
       "    .dataframe thead th {\n",
       "        text-align: right;\n",
       "    }\n",
       "</style>\n",
       "<table border=\"1\" class=\"dataframe\">\n",
       "  <thead>\n",
       "    <tr style=\"text-align: right;\">\n",
       "      <th></th>\n",
       "      <th>id</th>\n",
       "      <th>url</th>\n",
       "      <th>region</th>\n",
       "      <th>region_url</th>\n",
       "      <th>price</th>\n",
       "      <th>type</th>\n",
       "      <th>sqfeet</th>\n",
       "      <th>beds</th>\n",
       "      <th>baths</th>\n",
       "      <th>cats_allowed</th>\n",
       "      <th>...</th>\n",
       "      <th>wheelchair_access</th>\n",
       "      <th>electric_vehicle_charge</th>\n",
       "      <th>comes_furnished</th>\n",
       "      <th>laundry_options</th>\n",
       "      <th>parking_options</th>\n",
       "      <th>image_url</th>\n",
       "      <th>description</th>\n",
       "      <th>lat</th>\n",
       "      <th>long</th>\n",
       "      <th>state</th>\n",
       "    </tr>\n",
       "  </thead>\n",
       "  <tbody>\n",
       "    <tr>\n",
       "      <th>23893</th>\n",
       "      <td>7050028818</td>\n",
       "      <td>https://inlandempire.craigslist.org/apa/d/chin...</td>\n",
       "      <td>inland empire</td>\n",
       "      <td>https://inlandempire.craigslist.org</td>\n",
       "      <td>21701907</td>\n",
       "      <td>apartment</td>\n",
       "      <td>860</td>\n",
       "      <td>2</td>\n",
       "      <td>2.0</td>\n",
       "      <td>1</td>\n",
       "      <td>...</td>\n",
       "      <td>1</td>\n",
       "      <td>0</td>\n",
       "      <td>0</td>\n",
       "      <td>w/d in unit</td>\n",
       "      <td>NaN</td>\n",
       "      <td>https://images.craigslist.org/00O0O_cwgJCJ5tJt...</td>\n",
       "      <td>Relax, your search is over. Welcome home to Th...</td>\n",
       "      <td>33.9829</td>\n",
       "      <td>-117.7490</td>\n",
       "      <td>ca</td>\n",
       "    </tr>\n",
       "    <tr>\n",
       "      <th>28231</th>\n",
       "      <td>7043695788</td>\n",
       "      <td>https://losangeles.craigslist.org/wst/apa/d/ma...</td>\n",
       "      <td>los angeles</td>\n",
       "      <td>https://losangeles.craigslist.org</td>\n",
       "      <td>90292</td>\n",
       "      <td>apartment</td>\n",
       "      <td>995</td>\n",
       "      <td>1</td>\n",
       "      <td>0.0</td>\n",
       "      <td>1</td>\n",
       "      <td>...</td>\n",
       "      <td>0</td>\n",
       "      <td>0</td>\n",
       "      <td>0</td>\n",
       "      <td>w/d in unit</td>\n",
       "      <td>carport</td>\n",
       "      <td>https://images.craigslist.org/00x0x_hY26lsIpJd...</td>\n",
       "      <td>Esprit - Los Angeles' private marina - was tho...</td>\n",
       "      <td>33.9762</td>\n",
       "      <td>-118.4540</td>\n",
       "      <td>ca</td>\n",
       "    </tr>\n",
       "    <tr>\n",
       "      <th>33518</th>\n",
       "      <td>7049245794</td>\n",
       "      <td>https://orangecounty.craigslist.org/apa/d/lagu...</td>\n",
       "      <td>orange county</td>\n",
       "      <td>https://orangecounty.craigslist.org</td>\n",
       "      <td>45025</td>\n",
       "      <td>house</td>\n",
       "      <td>3675</td>\n",
       "      <td>5</td>\n",
       "      <td>3.0</td>\n",
       "      <td>1</td>\n",
       "      <td>...</td>\n",
       "      <td>0</td>\n",
       "      <td>0</td>\n",
       "      <td>0</td>\n",
       "      <td>NaN</td>\n",
       "      <td>NaN</td>\n",
       "      <td>https://images.craigslist.org/00Q0Q_9KnB9jLGoe...</td>\n",
       "      <td>This lavish bluff high sea front location on V...</td>\n",
       "      <td>33.5429</td>\n",
       "      <td>-117.7810</td>\n",
       "      <td>ca</td>\n",
       "    </tr>\n",
       "    <tr>\n",
       "      <th>34542</th>\n",
       "      <td>7020585032</td>\n",
       "      <td>https://palmsprings.craigslist.org/apa/d/cathe...</td>\n",
       "      <td>palm springs</td>\n",
       "      <td>https://palmsprings.craigslist.org</td>\n",
       "      <td>78995</td>\n",
       "      <td>manufactured</td>\n",
       "      <td>880</td>\n",
       "      <td>2</td>\n",
       "      <td>2.0</td>\n",
       "      <td>0</td>\n",
       "      <td>...</td>\n",
       "      <td>0</td>\n",
       "      <td>0</td>\n",
       "      <td>0</td>\n",
       "      <td>w/d hookups</td>\n",
       "      <td>carport</td>\n",
       "      <td>https://images.craigslist.org/00808_1Kg4RMeIVn...</td>\n",
       "      <td>This home for Lease or For Sale! Located in pr...</td>\n",
       "      <td>33.7916</td>\n",
       "      <td>-116.4790</td>\n",
       "      <td>ca</td>\n",
       "    </tr>\n",
       "    <tr>\n",
       "      <th>35403</th>\n",
       "      <td>7006926303</td>\n",
       "      <td>https://redding.craigslist.org/apa/d/palo-cedr...</td>\n",
       "      <td>redding</td>\n",
       "      <td>https://redding.craigslist.org</td>\n",
       "      <td>29500</td>\n",
       "      <td>manufactured</td>\n",
       "      <td>910</td>\n",
       "      <td>2</td>\n",
       "      <td>1.0</td>\n",
       "      <td>0</td>\n",
       "      <td>...</td>\n",
       "      <td>0</td>\n",
       "      <td>0</td>\n",
       "      <td>0</td>\n",
       "      <td>w/d in unit</td>\n",
       "      <td>NaN</td>\n",
       "      <td>https://images.craigslist.org/00L0L_dxT7ia7JMm...</td>\n",
       "      <td>MUST BE MOVED.  14 x 65 Mobile Home 1978. 910 ...</td>\n",
       "      <td>40.5671</td>\n",
       "      <td>-122.1920</td>\n",
       "      <td>ca</td>\n",
       "    </tr>\n",
       "    <tr>\n",
       "      <th>...</th>\n",
       "      <td>...</td>\n",
       "      <td>...</td>\n",
       "      <td>...</td>\n",
       "      <td>...</td>\n",
       "      <td>...</td>\n",
       "      <td>...</td>\n",
       "      <td>...</td>\n",
       "      <td>...</td>\n",
       "      <td>...</td>\n",
       "      <td>...</td>\n",
       "      <td>...</td>\n",
       "      <td>...</td>\n",
       "      <td>...</td>\n",
       "      <td>...</td>\n",
       "      <td>...</td>\n",
       "      <td>...</td>\n",
       "      <td>...</td>\n",
       "      <td>...</td>\n",
       "      <td>...</td>\n",
       "      <td>...</td>\n",
       "      <td>...</td>\n",
       "    </tr>\n",
       "    <tr>\n",
       "      <th>246665</th>\n",
       "      <td>7025856153</td>\n",
       "      <td>https://elmira.craigslist.org/apa/d/hornell-re...</td>\n",
       "      <td>elmira-corning</td>\n",
       "      <td>https://elmira.craigslist.org</td>\n",
       "      <td>115000</td>\n",
       "      <td>house</td>\n",
       "      <td>2800</td>\n",
       "      <td>5</td>\n",
       "      <td>2.0</td>\n",
       "      <td>0</td>\n",
       "      <td>...</td>\n",
       "      <td>0</td>\n",
       "      <td>0</td>\n",
       "      <td>0</td>\n",
       "      <td>w/d hookups</td>\n",
       "      <td>off-street parking</td>\n",
       "      <td>https://images.craigslist.org/00707_gAibUUK4G4...</td>\n",
       "      <td>Beautiful all remodeled 5 bedroom home with tw...</td>\n",
       "      <td>42.3291</td>\n",
       "      <td>-77.6587</td>\n",
       "      <td>ny</td>\n",
       "    </tr>\n",
       "    <tr>\n",
       "      <th>247250</th>\n",
       "      <td>7047477916</td>\n",
       "      <td>https://hudsonvalley.craigslist.org/apa/d/pelh...</td>\n",
       "      <td>hudson valley</td>\n",
       "      <td>https://hudsonvalley.craigslist.org</td>\n",
       "      <td>18502000</td>\n",
       "      <td>apartment</td>\n",
       "      <td>900</td>\n",
       "      <td>2</td>\n",
       "      <td>1.0</td>\n",
       "      <td>1</td>\n",
       "      <td>...</td>\n",
       "      <td>0</td>\n",
       "      <td>0</td>\n",
       "      <td>0</td>\n",
       "      <td>laundry in bldg</td>\n",
       "      <td>no parking</td>\n",
       "      <td>https://images.craigslist.org/00000_7Q3kg4Fw28...</td>\n",
       "      <td>2 Bedroom Apartment in the cozy Village of Pel...</td>\n",
       "      <td>40.9129</td>\n",
       "      <td>-73.8089</td>\n",
       "      <td>ny</td>\n",
       "    </tr>\n",
       "    <tr>\n",
       "      <th>247251</th>\n",
       "      <td>7047477447</td>\n",
       "      <td>https://hudsonvalley.craigslist.org/apa/d/pelh...</td>\n",
       "      <td>hudson valley</td>\n",
       "      <td>https://hudsonvalley.craigslist.org</td>\n",
       "      <td>18502000</td>\n",
       "      <td>apartment</td>\n",
       "      <td>900</td>\n",
       "      <td>2</td>\n",
       "      <td>1.0</td>\n",
       "      <td>1</td>\n",
       "      <td>...</td>\n",
       "      <td>0</td>\n",
       "      <td>0</td>\n",
       "      <td>0</td>\n",
       "      <td>laundry in bldg</td>\n",
       "      <td>no parking</td>\n",
       "      <td>https://images.craigslist.org/00000_7Q3kg4Fw28...</td>\n",
       "      <td>2 Bedroom Apartment in the cozy Village of Pel...</td>\n",
       "      <td>40.9129</td>\n",
       "      <td>-73.8089</td>\n",
       "      <td>ny</td>\n",
       "    </tr>\n",
       "    <tr>\n",
       "      <th>248418</th>\n",
       "      <td>7040822558</td>\n",
       "      <td>https://longisland.craigslist.org/apa/d/hempst...</td>\n",
       "      <td>long island</td>\n",
       "      <td>https://longisland.craigslist.org</td>\n",
       "      <td>450000</td>\n",
       "      <td>house</td>\n",
       "      <td>2528</td>\n",
       "      <td>7</td>\n",
       "      <td>4.0</td>\n",
       "      <td>0</td>\n",
       "      <td>...</td>\n",
       "      <td>0</td>\n",
       "      <td>1</td>\n",
       "      <td>0</td>\n",
       "      <td>w/d hookups</td>\n",
       "      <td>detached garage</td>\n",
       "      <td>https://images.craigslist.org/00B0B_7ll96xdyaS...</td>\n",
       "      <td>Large house, good for group home, shelter or l...</td>\n",
       "      <td>40.7176</td>\n",
       "      <td>-73.6237</td>\n",
       "      <td>ny</td>\n",
       "    </tr>\n",
       "    <tr>\n",
       "      <th>252920</th>\n",
       "      <td>7023107367</td>\n",
       "      <td>https://utica.craigslist.org/apa/d/yorkville-w...</td>\n",
       "      <td>utica-rome-oneida</td>\n",
       "      <td>https://utica.craigslist.org</td>\n",
       "      <td>64999</td>\n",
       "      <td>house</td>\n",
       "      <td>1750</td>\n",
       "      <td>2</td>\n",
       "      <td>0.0</td>\n",
       "      <td>0</td>\n",
       "      <td>...</td>\n",
       "      <td>0</td>\n",
       "      <td>0</td>\n",
       "      <td>0</td>\n",
       "      <td>NaN</td>\n",
       "      <td>NaN</td>\n",
       "      <td>https://images.craigslist.org/00z0z_7sYk5ooaPu...</td>\n",
       "      <td>24 Moseley, small one family, 2 bedroom house ...</td>\n",
       "      <td>43.1242</td>\n",
       "      <td>-75.2952</td>\n",
       "      <td>ny</td>\n",
       "    </tr>\n",
       "  </tbody>\n",
       "</table>\n",
       "<p>106 rows × 22 columns</p>\n",
       "</div>"
      ],
      "text/plain": [
       "                id                                                url  \\\n",
       "23893   7050028818  https://inlandempire.craigslist.org/apa/d/chin...   \n",
       "28231   7043695788  https://losangeles.craigslist.org/wst/apa/d/ma...   \n",
       "33518   7049245794  https://orangecounty.craigslist.org/apa/d/lagu...   \n",
       "34542   7020585032  https://palmsprings.craigslist.org/apa/d/cathe...   \n",
       "35403   7006926303  https://redding.craigslist.org/apa/d/palo-cedr...   \n",
       "...            ...                                                ...   \n",
       "246665  7025856153  https://elmira.craigslist.org/apa/d/hornell-re...   \n",
       "247250  7047477916  https://hudsonvalley.craigslist.org/apa/d/pelh...   \n",
       "247251  7047477447  https://hudsonvalley.craigslist.org/apa/d/pelh...   \n",
       "248418  7040822558  https://longisland.craigslist.org/apa/d/hempst...   \n",
       "252920  7023107367  https://utica.craigslist.org/apa/d/yorkville-w...   \n",
       "\n",
       "                   region                           region_url     price  \\\n",
       "23893       inland empire  https://inlandempire.craigslist.org  21701907   \n",
       "28231         los angeles    https://losangeles.craigslist.org     90292   \n",
       "33518       orange county  https://orangecounty.craigslist.org     45025   \n",
       "34542        palm springs   https://palmsprings.craigslist.org     78995   \n",
       "35403             redding       https://redding.craigslist.org     29500   \n",
       "...                   ...                                  ...       ...   \n",
       "246665     elmira-corning        https://elmira.craigslist.org    115000   \n",
       "247250      hudson valley  https://hudsonvalley.craigslist.org  18502000   \n",
       "247251      hudson valley  https://hudsonvalley.craigslist.org  18502000   \n",
       "248418        long island    https://longisland.craigslist.org    450000   \n",
       "252920  utica-rome-oneida         https://utica.craigslist.org     64999   \n",
       "\n",
       "                type  sqfeet  beds  baths  cats_allowed  ...  \\\n",
       "23893      apartment     860     2    2.0             1  ...   \n",
       "28231      apartment     995     1    0.0             1  ...   \n",
       "33518          house    3675     5    3.0             1  ...   \n",
       "34542   manufactured     880     2    2.0             0  ...   \n",
       "35403   manufactured     910     2    1.0             0  ...   \n",
       "...              ...     ...   ...    ...           ...  ...   \n",
       "246665         house    2800     5    2.0             0  ...   \n",
       "247250     apartment     900     2    1.0             1  ...   \n",
       "247251     apartment     900     2    1.0             1  ...   \n",
       "248418         house    2528     7    4.0             0  ...   \n",
       "252920         house    1750     2    0.0             0  ...   \n",
       "\n",
       "        wheelchair_access  electric_vehicle_charge  comes_furnished  \\\n",
       "23893                   1                        0                0   \n",
       "28231                   0                        0                0   \n",
       "33518                   0                        0                0   \n",
       "34542                   0                        0                0   \n",
       "35403                   0                        0                0   \n",
       "...                   ...                      ...              ...   \n",
       "246665                  0                        0                0   \n",
       "247250                  0                        0                0   \n",
       "247251                  0                        0                0   \n",
       "248418                  0                        1                0   \n",
       "252920                  0                        0                0   \n",
       "\n",
       "        laundry_options     parking_options  \\\n",
       "23893       w/d in unit                 NaN   \n",
       "28231       w/d in unit             carport   \n",
       "33518               NaN                 NaN   \n",
       "34542       w/d hookups             carport   \n",
       "35403       w/d in unit                 NaN   \n",
       "...                 ...                 ...   \n",
       "246665      w/d hookups  off-street parking   \n",
       "247250  laundry in bldg          no parking   \n",
       "247251  laundry in bldg          no parking   \n",
       "248418      w/d hookups     detached garage   \n",
       "252920              NaN                 NaN   \n",
       "\n",
       "                                                image_url  \\\n",
       "23893   https://images.craigslist.org/00O0O_cwgJCJ5tJt...   \n",
       "28231   https://images.craigslist.org/00x0x_hY26lsIpJd...   \n",
       "33518   https://images.craigslist.org/00Q0Q_9KnB9jLGoe...   \n",
       "34542   https://images.craigslist.org/00808_1Kg4RMeIVn...   \n",
       "35403   https://images.craigslist.org/00L0L_dxT7ia7JMm...   \n",
       "...                                                   ...   \n",
       "246665  https://images.craigslist.org/00707_gAibUUK4G4...   \n",
       "247250  https://images.craigslist.org/00000_7Q3kg4Fw28...   \n",
       "247251  https://images.craigslist.org/00000_7Q3kg4Fw28...   \n",
       "248418  https://images.craigslist.org/00B0B_7ll96xdyaS...   \n",
       "252920  https://images.craigslist.org/00z0z_7sYk5ooaPu...   \n",
       "\n",
       "                                              description      lat      long  \\\n",
       "23893   Relax, your search is over. Welcome home to Th...  33.9829 -117.7490   \n",
       "28231   Esprit - Los Angeles' private marina - was tho...  33.9762 -118.4540   \n",
       "33518   This lavish bluff high sea front location on V...  33.5429 -117.7810   \n",
       "34542   This home for Lease or For Sale! Located in pr...  33.7916 -116.4790   \n",
       "35403   MUST BE MOVED.  14 x 65 Mobile Home 1978. 910 ...  40.5671 -122.1920   \n",
       "...                                                   ...      ...       ...   \n",
       "246665  Beautiful all remodeled 5 bedroom home with tw...  42.3291  -77.6587   \n",
       "247250  2 Bedroom Apartment in the cozy Village of Pel...  40.9129  -73.8089   \n",
       "247251  2 Bedroom Apartment in the cozy Village of Pel...  40.9129  -73.8089   \n",
       "248418  Large house, good for group home, shelter or l...  40.7176  -73.6237   \n",
       "252920  24 Moseley, small one family, 2 bedroom house ...  43.1242  -75.2952   \n",
       "\n",
       "        state  \n",
       "23893      ca  \n",
       "28231      ca  \n",
       "33518      ca  \n",
       "34542      ca  \n",
       "35403      ca  \n",
       "...       ...  \n",
       "246665     ny  \n",
       "247250     ny  \n",
       "247251     ny  \n",
       "248418     ny  \n",
       "252920     ny  \n",
       "\n",
       "[106 rows x 22 columns]"
      ]
     },
     "execution_count": 44,
     "metadata": {},
     "output_type": "execute_result"
    }
   ],
   "source": [
    "print(df[df['price'] > 20000].shape)\n",
    "df[df['price'] > 20000]"
   ]
  },
  {
   "cell_type": "code",
   "execution_count": 43,
   "id": "a551770a-5bce-4d1c-9286-eebbaf99b5d5",
   "metadata": {
    "collapsed": true,
    "jupyter": {
     "outputs_hidden": true
    },
    "tags": []
   },
   "outputs": [
    {
     "data": {
      "text/html": [
       "<div>\n",
       "<style scoped>\n",
       "    .dataframe tbody tr th:only-of-type {\n",
       "        vertical-align: middle;\n",
       "    }\n",
       "\n",
       "    .dataframe tbody tr th {\n",
       "        vertical-align: top;\n",
       "    }\n",
       "\n",
       "    .dataframe thead th {\n",
       "        text-align: right;\n",
       "    }\n",
       "</style>\n",
       "<table border=\"1\" class=\"dataframe\">\n",
       "  <thead>\n",
       "    <tr style=\"text-align: right;\">\n",
       "      <th></th>\n",
       "      <th>id</th>\n",
       "      <th>url</th>\n",
       "      <th>region</th>\n",
       "      <th>region_url</th>\n",
       "      <th>price</th>\n",
       "      <th>type</th>\n",
       "      <th>sqfeet</th>\n",
       "      <th>beds</th>\n",
       "      <th>baths</th>\n",
       "      <th>cats_allowed</th>\n",
       "      <th>...</th>\n",
       "      <th>wheelchair_access</th>\n",
       "      <th>electric_vehicle_charge</th>\n",
       "      <th>comes_furnished</th>\n",
       "      <th>laundry_options</th>\n",
       "      <th>parking_options</th>\n",
       "      <th>image_url</th>\n",
       "      <th>description</th>\n",
       "      <th>lat</th>\n",
       "      <th>long</th>\n",
       "      <th>state</th>\n",
       "    </tr>\n",
       "  </thead>\n",
       "  <tbody>\n",
       "    <tr>\n",
       "      <th>1735</th>\n",
       "      <td>7036510148</td>\n",
       "      <td>https://huntsville.craigslist.org/apa/d/huntsv...</td>\n",
       "      <td>huntsville / decatur</td>\n",
       "      <td>https://huntsville.craigslist.org</td>\n",
       "      <td>0</td>\n",
       "      <td>apartment</td>\n",
       "      <td>649</td>\n",
       "      <td>1</td>\n",
       "      <td>1.0</td>\n",
       "      <td>1</td>\n",
       "      <td>...</td>\n",
       "      <td>0</td>\n",
       "      <td>0</td>\n",
       "      <td>0</td>\n",
       "      <td>laundry on site</td>\n",
       "      <td>off-street parking</td>\n",
       "      <td>https://images.craigslist.org/00q0q_2bwmJNzdEu...</td>\n",
       "      <td>Pet friendly community.   Minutes away from tw...</td>\n",
       "      <td>34.7430</td>\n",
       "      <td>-86.6493</td>\n",
       "      <td>al</td>\n",
       "    </tr>\n",
       "    <tr>\n",
       "      <th>1741</th>\n",
       "      <td>7036506581</td>\n",
       "      <td>https://huntsville.craigslist.org/apa/d/huntsv...</td>\n",
       "      <td>huntsville / decatur</td>\n",
       "      <td>https://huntsville.craigslist.org</td>\n",
       "      <td>0</td>\n",
       "      <td>apartment</td>\n",
       "      <td>943</td>\n",
       "      <td>2</td>\n",
       "      <td>2.0</td>\n",
       "      <td>1</td>\n",
       "      <td>...</td>\n",
       "      <td>1</td>\n",
       "      <td>0</td>\n",
       "      <td>0</td>\n",
       "      <td>w/d hookups</td>\n",
       "      <td>off-street parking</td>\n",
       "      <td>https://images.craigslist.org/00i0i_L6t7xAqk99...</td>\n",
       "      <td>Pet friendly community!  Minutes away from two...</td>\n",
       "      <td>34.7430</td>\n",
       "      <td>-86.6493</td>\n",
       "      <td>al</td>\n",
       "    </tr>\n",
       "    <tr>\n",
       "      <th>2021</th>\n",
       "      <td>7033223762</td>\n",
       "      <td>https://huntsville.craigslist.org/apa/d/roswel...</td>\n",
       "      <td>huntsville / decatur</td>\n",
       "      <td>https://huntsville.craigslist.org</td>\n",
       "      <td>5</td>\n",
       "      <td>house</td>\n",
       "      <td>5550</td>\n",
       "      <td>5</td>\n",
       "      <td>4.0</td>\n",
       "      <td>0</td>\n",
       "      <td>...</td>\n",
       "      <td>0</td>\n",
       "      <td>0</td>\n",
       "      <td>0</td>\n",
       "      <td>w/d in unit</td>\n",
       "      <td>attached garage</td>\n",
       "      <td>https://images.craigslist.org/00z0z_ajA6P2nYLY...</td>\n",
       "      <td>These are challenging times but why struggle a...</td>\n",
       "      <td>34.0408</td>\n",
       "      <td>-84.3859</td>\n",
       "      <td>al</td>\n",
       "    </tr>\n",
       "    <tr>\n",
       "      <th>2035</th>\n",
       "      <td>7033223609</td>\n",
       "      <td>https://huntsville.craigslist.org/apa/d/roswel...</td>\n",
       "      <td>huntsville / decatur</td>\n",
       "      <td>https://huntsville.craigslist.org</td>\n",
       "      <td>5</td>\n",
       "      <td>house</td>\n",
       "      <td>5550</td>\n",
       "      <td>5</td>\n",
       "      <td>4.0</td>\n",
       "      <td>0</td>\n",
       "      <td>...</td>\n",
       "      <td>0</td>\n",
       "      <td>0</td>\n",
       "      <td>0</td>\n",
       "      <td>w/d in unit</td>\n",
       "      <td>attached garage</td>\n",
       "      <td>https://images.craigslist.org/00z0z_ajA6P2nYLY...</td>\n",
       "      <td>These are challenging times but why struggle a...</td>\n",
       "      <td>34.0408</td>\n",
       "      <td>-84.3859</td>\n",
       "      <td>al</td>\n",
       "    </tr>\n",
       "    <tr>\n",
       "      <th>4097</th>\n",
       "      <td>7036563560</td>\n",
       "      <td>https://mobile.craigslist.org/apa/d/gulf-shore...</td>\n",
       "      <td>mobile</td>\n",
       "      <td>https://mobile.craigslist.org</td>\n",
       "      <td>100</td>\n",
       "      <td>condo</td>\n",
       "      <td>815</td>\n",
       "      <td>1</td>\n",
       "      <td>1.0</td>\n",
       "      <td>0</td>\n",
       "      <td>...</td>\n",
       "      <td>0</td>\n",
       "      <td>0</td>\n",
       "      <td>1</td>\n",
       "      <td>w/d in unit</td>\n",
       "      <td>street parking</td>\n",
       "      <td>https://images.craigslist.org/00Y0Y_bPo2qxPgJA...</td>\n",
       "      <td>GulfFront/Renovated Condo,  A newly top to bot...</td>\n",
       "      <td>30.2432</td>\n",
       "      <td>-87.7235</td>\n",
       "      <td>al</td>\n",
       "    </tr>\n",
       "    <tr>\n",
       "      <th>...</th>\n",
       "      <td>...</td>\n",
       "      <td>...</td>\n",
       "      <td>...</td>\n",
       "      <td>...</td>\n",
       "      <td>...</td>\n",
       "      <td>...</td>\n",
       "      <td>...</td>\n",
       "      <td>...</td>\n",
       "      <td>...</td>\n",
       "      <td>...</td>\n",
       "      <td>...</td>\n",
       "      <td>...</td>\n",
       "      <td>...</td>\n",
       "      <td>...</td>\n",
       "      <td>...</td>\n",
       "      <td>...</td>\n",
       "      <td>...</td>\n",
       "      <td>...</td>\n",
       "      <td>...</td>\n",
       "      <td>...</td>\n",
       "      <td>...</td>\n",
       "    </tr>\n",
       "    <tr>\n",
       "      <th>264965</th>\n",
       "      <td>7036270779</td>\n",
       "      <td>https://enid.craigslist.org/apa/d/enid-two-bed...</td>\n",
       "      <td>northwest OK</td>\n",
       "      <td>https://enid.craigslist.org</td>\n",
       "      <td>55</td>\n",
       "      <td>apartment</td>\n",
       "      <td>960</td>\n",
       "      <td>2</td>\n",
       "      <td>1.0</td>\n",
       "      <td>0</td>\n",
       "      <td>...</td>\n",
       "      <td>0</td>\n",
       "      <td>0</td>\n",
       "      <td>0</td>\n",
       "      <td>w/d in unit</td>\n",
       "      <td>NaN</td>\n",
       "      <td>https://images.craigslist.org/01616_2WFSAEZrBW...</td>\n",
       "      <td>Two Bedroom * Flat Screen TV * High Speed Inte...</td>\n",
       "      <td>36.3975</td>\n",
       "      <td>-97.9157</td>\n",
       "      <td>ok</td>\n",
       "    </tr>\n",
       "    <tr>\n",
       "      <th>265094</th>\n",
       "      <td>7050952790</td>\n",
       "      <td>https://columbus.craigslist.org/apa/d/columbus...</td>\n",
       "      <td>columbus</td>\n",
       "      <td>https://columbus.craigslist.org</td>\n",
       "      <td>0</td>\n",
       "      <td>apartment</td>\n",
       "      <td>610</td>\n",
       "      <td>1</td>\n",
       "      <td>1.0</td>\n",
       "      <td>1</td>\n",
       "      <td>...</td>\n",
       "      <td>0</td>\n",
       "      <td>0</td>\n",
       "      <td>0</td>\n",
       "      <td>w/d in unit</td>\n",
       "      <td>off-street parking</td>\n",
       "      <td>https://images.craigslist.org/00X0X_h2pRwA4KgU...</td>\n",
       "      <td>Top 10 Reasons to live at Ryland Park:  10. Ma...</td>\n",
       "      <td>39.9818</td>\n",
       "      <td>-83.1457</td>\n",
       "      <td>oh</td>\n",
       "    </tr>\n",
       "    <tr>\n",
       "      <th>265151</th>\n",
       "      <td>7050852163</td>\n",
       "      <td>https://columbus.craigslist.org/apa/d/columbus...</td>\n",
       "      <td>columbus</td>\n",
       "      <td>https://columbus.craigslist.org</td>\n",
       "      <td>0</td>\n",
       "      <td>apartment</td>\n",
       "      <td>728</td>\n",
       "      <td>1</td>\n",
       "      <td>1.0</td>\n",
       "      <td>1</td>\n",
       "      <td>...</td>\n",
       "      <td>0</td>\n",
       "      <td>0</td>\n",
       "      <td>0</td>\n",
       "      <td>w/d in unit</td>\n",
       "      <td>detached garage</td>\n",
       "      <td>https://images.craigslist.org/00j0j_ihF2sLBT8i...</td>\n",
       "      <td>â BERKLEY HOUSE â   Voted #1 BEST Communit...</td>\n",
       "      <td>40.0495</td>\n",
       "      <td>-83.0669</td>\n",
       "      <td>oh</td>\n",
       "    </tr>\n",
       "    <tr>\n",
       "      <th>265180</th>\n",
       "      <td>7050881145</td>\n",
       "      <td>https://columbus.craigslist.org/apa/d/columbus...</td>\n",
       "      <td>columbus</td>\n",
       "      <td>https://columbus.craigslist.org</td>\n",
       "      <td>0</td>\n",
       "      <td>apartment</td>\n",
       "      <td>1053</td>\n",
       "      <td>2</td>\n",
       "      <td>2.0</td>\n",
       "      <td>1</td>\n",
       "      <td>...</td>\n",
       "      <td>0</td>\n",
       "      <td>0</td>\n",
       "      <td>0</td>\n",
       "      <td>w/d in unit</td>\n",
       "      <td>NaN</td>\n",
       "      <td>https://images.craigslist.org/00D0D_u19OgUFyC4...</td>\n",
       "      <td>Ryland Park sets the standard for luxury livin...</td>\n",
       "      <td>39.9818</td>\n",
       "      <td>-83.1457</td>\n",
       "      <td>oh</td>\n",
       "    </tr>\n",
       "    <tr>\n",
       "      <th>265185</th>\n",
       "      <td>7050851033</td>\n",
       "      <td>https://columbus.craigslist.org/apa/d/columbus...</td>\n",
       "      <td>columbus</td>\n",
       "      <td>https://columbus.craigslist.org</td>\n",
       "      <td>0</td>\n",
       "      <td>apartment</td>\n",
       "      <td>1061</td>\n",
       "      <td>2</td>\n",
       "      <td>2.0</td>\n",
       "      <td>1</td>\n",
       "      <td>...</td>\n",
       "      <td>0</td>\n",
       "      <td>0</td>\n",
       "      <td>0</td>\n",
       "      <td>w/d in unit</td>\n",
       "      <td>detached garage</td>\n",
       "      <td>https://images.craigslist.org/00m0m_8wP9hX96TZ...</td>\n",
       "      <td>â BERKLEY HOUSE â   Voted #1 BEST Communit...</td>\n",
       "      <td>40.0495</td>\n",
       "      <td>-83.0669</td>\n",
       "      <td>oh</td>\n",
       "    </tr>\n",
       "  </tbody>\n",
       "</table>\n",
       "<p>1786 rows × 22 columns</p>\n",
       "</div>"
      ],
      "text/plain": [
       "                id                                                url  \\\n",
       "1735    7036510148  https://huntsville.craigslist.org/apa/d/huntsv...   \n",
       "1741    7036506581  https://huntsville.craigslist.org/apa/d/huntsv...   \n",
       "2021    7033223762  https://huntsville.craigslist.org/apa/d/roswel...   \n",
       "2035    7033223609  https://huntsville.craigslist.org/apa/d/roswel...   \n",
       "4097    7036563560  https://mobile.craigslist.org/apa/d/gulf-shore...   \n",
       "...            ...                                                ...   \n",
       "264965  7036270779  https://enid.craigslist.org/apa/d/enid-two-bed...   \n",
       "265094  7050952790  https://columbus.craigslist.org/apa/d/columbus...   \n",
       "265151  7050852163  https://columbus.craigslist.org/apa/d/columbus...   \n",
       "265180  7050881145  https://columbus.craigslist.org/apa/d/columbus...   \n",
       "265185  7050851033  https://columbus.craigslist.org/apa/d/columbus...   \n",
       "\n",
       "                      region                         region_url  price  \\\n",
       "1735    huntsville / decatur  https://huntsville.craigslist.org      0   \n",
       "1741    huntsville / decatur  https://huntsville.craigslist.org      0   \n",
       "2021    huntsville / decatur  https://huntsville.craigslist.org      5   \n",
       "2035    huntsville / decatur  https://huntsville.craigslist.org      5   \n",
       "4097                  mobile      https://mobile.craigslist.org    100   \n",
       "...                      ...                                ...    ...   \n",
       "264965          northwest OK        https://enid.craigslist.org     55   \n",
       "265094              columbus    https://columbus.craigslist.org      0   \n",
       "265151              columbus    https://columbus.craigslist.org      0   \n",
       "265180              columbus    https://columbus.craigslist.org      0   \n",
       "265185              columbus    https://columbus.craigslist.org      0   \n",
       "\n",
       "             type  sqfeet  beds  baths  cats_allowed  ...  wheelchair_access  \\\n",
       "1735    apartment     649     1    1.0             1  ...                  0   \n",
       "1741    apartment     943     2    2.0             1  ...                  1   \n",
       "2021        house    5550     5    4.0             0  ...                  0   \n",
       "2035        house    5550     5    4.0             0  ...                  0   \n",
       "4097        condo     815     1    1.0             0  ...                  0   \n",
       "...           ...     ...   ...    ...           ...  ...                ...   \n",
       "264965  apartment     960     2    1.0             0  ...                  0   \n",
       "265094  apartment     610     1    1.0             1  ...                  0   \n",
       "265151  apartment     728     1    1.0             1  ...                  0   \n",
       "265180  apartment    1053     2    2.0             1  ...                  0   \n",
       "265185  apartment    1061     2    2.0             1  ...                  0   \n",
       "\n",
       "        electric_vehicle_charge  comes_furnished  laundry_options  \\\n",
       "1735                          0                0  laundry on site   \n",
       "1741                          0                0      w/d hookups   \n",
       "2021                          0                0      w/d in unit   \n",
       "2035                          0                0      w/d in unit   \n",
       "4097                          0                1      w/d in unit   \n",
       "...                         ...              ...              ...   \n",
       "264965                        0                0      w/d in unit   \n",
       "265094                        0                0      w/d in unit   \n",
       "265151                        0                0      w/d in unit   \n",
       "265180                        0                0      w/d in unit   \n",
       "265185                        0                0      w/d in unit   \n",
       "\n",
       "           parking_options                                          image_url  \\\n",
       "1735    off-street parking  https://images.craigslist.org/00q0q_2bwmJNzdEu...   \n",
       "1741    off-street parking  https://images.craigslist.org/00i0i_L6t7xAqk99...   \n",
       "2021       attached garage  https://images.craigslist.org/00z0z_ajA6P2nYLY...   \n",
       "2035       attached garage  https://images.craigslist.org/00z0z_ajA6P2nYLY...   \n",
       "4097        street parking  https://images.craigslist.org/00Y0Y_bPo2qxPgJA...   \n",
       "...                    ...                                                ...   \n",
       "264965                 NaN  https://images.craigslist.org/01616_2WFSAEZrBW...   \n",
       "265094  off-street parking  https://images.craigslist.org/00X0X_h2pRwA4KgU...   \n",
       "265151     detached garage  https://images.craigslist.org/00j0j_ihF2sLBT8i...   \n",
       "265180                 NaN  https://images.craigslist.org/00D0D_u19OgUFyC4...   \n",
       "265185     detached garage  https://images.craigslist.org/00m0m_8wP9hX96TZ...   \n",
       "\n",
       "                                              description      lat     long  \\\n",
       "1735    Pet friendly community.   Minutes away from tw...  34.7430 -86.6493   \n",
       "1741    Pet friendly community!  Minutes away from two...  34.7430 -86.6493   \n",
       "2021    These are challenging times but why struggle a...  34.0408 -84.3859   \n",
       "2035    These are challenging times but why struggle a...  34.0408 -84.3859   \n",
       "4097    GulfFront/Renovated Condo,  A newly top to bot...  30.2432 -87.7235   \n",
       "...                                                   ...      ...      ...   \n",
       "264965  Two Bedroom * Flat Screen TV * High Speed Inte...  36.3975 -97.9157   \n",
       "265094  Top 10 Reasons to live at Ryland Park:  10. Ma...  39.9818 -83.1457   \n",
       "265151  â BERKLEY HOUSE â   Voted #1 BEST Communit...  40.0495 -83.0669   \n",
       "265180  Ryland Park sets the standard for luxury livin...  39.9818 -83.1457   \n",
       "265185  â BERKLEY HOUSE â   Voted #1 BEST Communit...  40.0495 -83.0669   \n",
       "\n",
       "        state  \n",
       "1735       al  \n",
       "1741       al  \n",
       "2021       al  \n",
       "2035       al  \n",
       "4097       al  \n",
       "...       ...  \n",
       "264965     ok  \n",
       "265094     oh  \n",
       "265151     oh  \n",
       "265180     oh  \n",
       "265185     oh  \n",
       "\n",
       "[1786 rows x 22 columns]"
      ]
     },
     "execution_count": 43,
     "metadata": {},
     "output_type": "execute_result"
    }
   ],
   "source": [
    "df[df['price'] < 200]"
   ]
  },
  {
   "cell_type": "code",
   "execution_count": 38,
   "id": "22904f10-e21e-4bcf-b815-61d0c0a0f092",
   "metadata": {
    "tags": []
   },
   "outputs": [
    {
     "data": {
      "text/plain": [
       "<Axes: ylabel='Frequency'>"
      ]
     },
     "execution_count": 38,
     "metadata": {},
     "output_type": "execute_result"
    },
    {
     "data": {
      "image/png": "[encoded data removed]",
      "text/plain": [
       "<Figure size 640x480 with 1 Axes>"
      ]
     },
     "metadata": {},
     "output_type": "display_data"
    }
   ],
   "source": [
    "df[df['price'] < 200]['price'].plot.hist(bins=60, alpha=0.5)"
   ]
  },
  {
   "cell_type": "code",
   "execution_count": 31,
   "id": "3c50c9e9-3a32-435f-b18e-89f923eaa284",
   "metadata": {},
   "outputs": [
    {
     "data": {
      "text/plain": [
       "750      2792\n",
       "850      2722\n",
       "1200     2714\n",
       "800      2680\n",
       "950      2467\n",
       "         ... \n",
       "3143        1\n",
       "4775        1\n",
       "80124       1\n",
       "5875        1\n",
       "281         1\n",
       "Name: price, Length: 3753, dtype: int64"
      ]
     },
     "execution_count": 31,
     "metadata": {},
     "output_type": "execute_result"
    }
   ],
   "source": [
    "df['price'].value_counts()"
   ]
  },
  {
   "cell_type": "code",
   "execution_count": 28,
   "id": "caa7ce2a-39c4-4e78-b7eb-72fb2e7496ec",
   "metadata": {
    "collapsed": true,
    "jupyter": {
     "outputs_hidden": true
    },
    "tags": []
   },
   "outputs": [
    {
     "data": {
      "text/plain": [
       "110953    2768307249\n",
       "23893       21701907\n",
       "247251      18502000\n",
       "247250      18502000\n",
       "73730       12000000\n",
       "223058      11621360\n",
       "51167       10321189\n",
       "92183        9001300\n",
       "189812       8675301\n",
       "229076       7955555\n",
       "83080        7655765\n",
       "73636        1800000\n",
       "214829       1089000\n",
       "213997       1089000\n",
       "137125        859864\n",
       "204514        840865\n",
       "167076        833848\n",
       "45635         704873\n",
       "222584        679710\n",
       "222643        679710\n",
       "222684        679710\n",
       "222036        679710\n",
       "222711        679710\n",
       "222750        679710\n",
       "221451        679710\n",
       "222020        679710\n",
       "221463        679710\n",
       "222551        679710\n",
       "221438        679710\n",
       "221387        679710\n",
       "221918        679710\n",
       "221892        679710\n",
       "221993        679710\n",
       "221867        679710\n",
       "222064        679710\n",
       "222545        679710\n",
       "222536        679710\n",
       "222256        679710\n",
       "222069        679710\n",
       "222405        679710\n",
       "221833        679710\n",
       "222439        679710\n",
       "222249        679710\n",
       "222068        679710\n",
       "222232        679710\n",
       "221660        679710\n",
       "222182        679710\n",
       "222152        679710\n",
       "140265        560750\n",
       "83547         550650\n",
       "Name: price, dtype: int64"
      ]
     },
     "execution_count": 28,
     "metadata": {},
     "output_type": "execute_result"
    }
   ],
   "source": [
    "df['price'].sort_values(ascending = False).head(50)"
   ]
  },
  {
   "cell_type": "code",
   "execution_count": 39,
   "id": "925a8d75-157a-4d17-8599-35bb6666075c",
   "metadata": {},
   "outputs": [
    {
     "data": {
      "text/plain": [
       "<Axes: ylabel='Frequency'>"
      ]
     },
     "execution_count": 39,
     "metadata": {},
     "output_type": "execute_result"
    },
    {
     "data": {
      "image/png": "[encoded data removed]",
      "text/plain": [
       "<Figure size 640x480 with 1 Axes>"
      ]
     },
     "metadata": {},
     "output_type": "display_data"
    }
   ],
   "source": [
    "df[(df['price'] > 100) & (df['price'] < 10000 ) ]['price'].plot.hist(bins=60, alpha=0.5)"
   ]
  },
  {
   "cell_type": "code",
   "execution_count": 63,
   "id": "7b37ea8b-7ed5-4f54-9f6c-42ef1c644ed7",
   "metadata": {},
   "outputs": [],
   "source": [
    "df = df[(df['price'] > 100) & (df['price'] < 10000 ) ]"
   ]
  },
  {
   "cell_type": "markdown",
   "id": "f69aeeca-1218-4ec6-bb93-1949677a9175",
   "metadata": {},
   "source": [
    "## Type"
   ]
  },
  {
   "cell_type": "code",
   "execution_count": 66,
   "id": "2b105b3a-d568-4673-bfe7-17dba373ea5b",
   "metadata": {},
   "outputs": [],
   "source": [
    "df['id'] = pd.to_numeric(df['id'])"
   ]
  },
  {
   "cell_type": "code",
   "execution_count": 50,
   "id": "a9384e46-2c2d-4dcb-a5a5-400d2830078b",
   "metadata": {},
   "outputs": [
    {
     "data": {
      "text/plain": [
       "array(['apartment', 'house', 'manufactured', 'townhouse', 'condo',\n",
       "       'duplex', 'flat', 'cottage/cabin', 'in-law', 'loft', 'land',\n",
       "       'assisted living'], dtype=object)"
      ]
     },
     "execution_count": 50,
     "metadata": {},
     "output_type": "execute_result"
    }
   ],
   "source": [
    "df.type.unique()"
   ]
  },
  {
   "cell_type": "code",
   "execution_count": 64,
   "id": "b89845e1-fb6e-48f5-9807-0f8025240098",
   "metadata": {},
   "outputs": [
    {
     "data": {
      "text/html": [
       "<div>\n",
       "<style scoped>\n",
       "    .dataframe tbody tr th:only-of-type {\n",
       "        vertical-align: middle;\n",
       "    }\n",
       "\n",
       "    .dataframe tbody tr th {\n",
       "        vertical-align: top;\n",
       "    }\n",
       "\n",
       "    .dataframe thead tr th {\n",
       "        text-align: left;\n",
       "    }\n",
       "\n",
       "    .dataframe thead tr:last-of-type th {\n",
       "        text-align: right;\n",
       "    }\n",
       "</style>\n",
       "<table border=\"1\" class=\"dataframe\">\n",
       "  <thead>\n",
       "    <tr>\n",
       "      <th></th>\n",
       "      <th colspan=\"3\" halign=\"left\">price</th>\n",
       "      <th>id</th>\n",
       "    </tr>\n",
       "    <tr>\n",
       "      <th></th>\n",
       "      <th>min</th>\n",
       "      <th>max</th>\n",
       "      <th>mean</th>\n",
       "      <th>count</th>\n",
       "    </tr>\n",
       "    <tr>\n",
       "      <th>type</th>\n",
       "      <th></th>\n",
       "      <th></th>\n",
       "      <th></th>\n",
       "      <th></th>\n",
       "    </tr>\n",
       "  </thead>\n",
       "  <tbody>\n",
       "    <tr>\n",
       "      <th>apartment</th>\n",
       "      <td>106</td>\n",
       "      <td>9500</td>\n",
       "      <td>1193.089848</td>\n",
       "      <td>216733</td>\n",
       "    </tr>\n",
       "    <tr>\n",
       "      <th>assisted living</th>\n",
       "      <td>175</td>\n",
       "      <td>175</td>\n",
       "      <td>175.000000</td>\n",
       "      <td>1</td>\n",
       "    </tr>\n",
       "    <tr>\n",
       "      <th>condo</th>\n",
       "      <td>115</td>\n",
       "      <td>9999</td>\n",
       "      <td>1669.465357</td>\n",
       "      <td>4835</td>\n",
       "    </tr>\n",
       "    <tr>\n",
       "      <th>cottage/cabin</th>\n",
       "      <td>115</td>\n",
       "      <td>5100</td>\n",
       "      <td>1274.394148</td>\n",
       "      <td>581</td>\n",
       "    </tr>\n",
       "    <tr>\n",
       "      <th>duplex</th>\n",
       "      <td>200</td>\n",
       "      <td>7000</td>\n",
       "      <td>1259.098432</td>\n",
       "      <td>3444</td>\n",
       "    </tr>\n",
       "    <tr>\n",
       "      <th>flat</th>\n",
       "      <td>225</td>\n",
       "      <td>8750</td>\n",
       "      <td>1700.438395</td>\n",
       "      <td>349</td>\n",
       "    </tr>\n",
       "    <tr>\n",
       "      <th>house</th>\n",
       "      <td>107</td>\n",
       "      <td>9910</td>\n",
       "      <td>1421.144650</td>\n",
       "      <td>23581</td>\n",
       "    </tr>\n",
       "    <tr>\n",
       "      <th>in-law</th>\n",
       "      <td>300</td>\n",
       "      <td>2750</td>\n",
       "      <td>1302.823944</td>\n",
       "      <td>142</td>\n",
       "    </tr>\n",
       "    <tr>\n",
       "      <th>land</th>\n",
       "      <td>350</td>\n",
       "      <td>1500</td>\n",
       "      <td>787.500000</td>\n",
       "      <td>4</td>\n",
       "    </tr>\n",
       "    <tr>\n",
       "      <th>loft</th>\n",
       "      <td>250</td>\n",
       "      <td>5395</td>\n",
       "      <td>1393.011742</td>\n",
       "      <td>511</td>\n",
       "    </tr>\n",
       "    <tr>\n",
       "      <th>manufactured</th>\n",
       "      <td>125</td>\n",
       "      <td>8900</td>\n",
       "      <td>929.511769</td>\n",
       "      <td>2974</td>\n",
       "    </tr>\n",
       "    <tr>\n",
       "      <th>townhouse</th>\n",
       "      <td>123</td>\n",
       "      <td>9790</td>\n",
       "      <td>1330.333784</td>\n",
       "      <td>10348</td>\n",
       "    </tr>\n",
       "  </tbody>\n",
       "</table>\n",
       "</div>"
      ],
      "text/plain": [
       "                price                         id\n",
       "                  min   max         mean   count\n",
       "type                                            \n",
       "apartment         106  9500  1193.089848  216733\n",
       "assisted living   175   175   175.000000       1\n",
       "condo             115  9999  1669.465357    4835\n",
       "cottage/cabin     115  5100  1274.394148     581\n",
       "duplex            200  7000  1259.098432    3444\n",
       "flat              225  8750  1700.438395     349\n",
       "house             107  9910  1421.144650   23581\n",
       "in-law            300  2750  1302.823944     142\n",
       "land              350  1500   787.500000       4\n",
       "loft              250  5395  1393.011742     511\n",
       "manufactured      125  8900   929.511769    2974\n",
       "townhouse         123  9790  1330.333784   10348"
      ]
     },
     "execution_count": 64,
     "metadata": {},
     "output_type": "execute_result"
    }
   ],
   "source": [
    "df.groupby('type').agg({'price': ['min', 'max', 'mean'], 'id': 'count'})"
   ]
  },
  {
   "cell_type": "code",
   "execution_count": 65,
   "id": "f016371d-5547-4065-9aab-1a4d06e9e4ac",
   "metadata": {},
   "outputs": [
    {
     "name": "stdout",
     "output_type": "stream",
     "text": [
      "(263503, 22)\n",
      "(263498, 22)\n"
     ]
    }
   ],
   "source": [
    "## Remove assisted living and land\n",
    "print(df.shape)\n",
    "df = df[(df['type'] != 'assisted living') & (df['type'] != 'land')]\n",
    "print(df.shape)\n"
   ]
  },
  {
   "cell_type": "markdown",
   "id": "ba1389e7-95b8-44b4-a6e4-0169ff9b39fd",
   "metadata": {},
   "source": [
    "## SqFeet"
   ]
  },
  {
   "cell_type": "code",
   "execution_count": 69,
   "id": "095717ee-2108-4bc3-95bc-b76638bc24b6",
   "metadata": {},
   "outputs": [
    {
     "data": {
      "text/plain": [
       "(0, 8388607)"
      ]
     },
     "execution_count": 69,
     "metadata": {},
     "output_type": "execute_result"
    }
   ],
   "source": [
    "df['sqfeet'].min(), df['sqfeet'].max()"
   ]
  },
  {
   "cell_type": "code",
   "execution_count": 70,
   "id": "2390dd51-3f22-4944-aa4b-980d05bd0759",
   "metadata": {},
   "outputs": [
    {
     "data": {
      "text/html": [
       "<div>\n",
       "<style scoped>\n",
       "    .dataframe tbody tr th:only-of-type {\n",
       "        vertical-align: middle;\n",
       "    }\n",
       "\n",
       "    .dataframe tbody tr th {\n",
       "        vertical-align: top;\n",
       "    }\n",
       "\n",
       "    .dataframe thead tr th {\n",
       "        text-align: left;\n",
       "    }\n",
       "\n",
       "    .dataframe thead tr:last-of-type th {\n",
       "        text-align: right;\n",
       "    }\n",
       "</style>\n",
       "<table border=\"1\" class=\"dataframe\">\n",
       "  <thead>\n",
       "    <tr>\n",
       "      <th></th>\n",
       "      <th colspan=\"3\" halign=\"left\">sqfeet</th>\n",
       "      <th>id</th>\n",
       "    </tr>\n",
       "    <tr>\n",
       "      <th></th>\n",
       "      <th>min</th>\n",
       "      <th>max</th>\n",
       "      <th>mean</th>\n",
       "      <th>count</th>\n",
       "    </tr>\n",
       "    <tr>\n",
       "      <th>type</th>\n",
       "      <th></th>\n",
       "      <th></th>\n",
       "      <th></th>\n",
       "      <th></th>\n",
       "    </tr>\n",
       "  </thead>\n",
       "  <tbody>\n",
       "    <tr>\n",
       "      <th>apartment</th>\n",
       "      <td>0</td>\n",
       "      <td>8388607</td>\n",
       "      <td>1018.662668</td>\n",
       "      <td>216733</td>\n",
       "    </tr>\n",
       "    <tr>\n",
       "      <th>condo</th>\n",
       "      <td>1</td>\n",
       "      <td>99202</td>\n",
       "      <td>1132.139814</td>\n",
       "      <td>4835</td>\n",
       "    </tr>\n",
       "    <tr>\n",
       "      <th>cottage/cabin</th>\n",
       "      <td>0</td>\n",
       "      <td>9600</td>\n",
       "      <td>789.913941</td>\n",
       "      <td>581</td>\n",
       "    </tr>\n",
       "    <tr>\n",
       "      <th>duplex</th>\n",
       "      <td>0</td>\n",
       "      <td>999999</td>\n",
       "      <td>1427.706446</td>\n",
       "      <td>3444</td>\n",
       "    </tr>\n",
       "    <tr>\n",
       "      <th>flat</th>\n",
       "      <td>1</td>\n",
       "      <td>3000</td>\n",
       "      <td>991.151862</td>\n",
       "      <td>349</td>\n",
       "    </tr>\n",
       "    <tr>\n",
       "      <th>house</th>\n",
       "      <td>0</td>\n",
       "      <td>1019856</td>\n",
       "      <td>1601.168398</td>\n",
       "      <td>23581</td>\n",
       "    </tr>\n",
       "    <tr>\n",
       "      <th>in-law</th>\n",
       "      <td>150</td>\n",
       "      <td>1450</td>\n",
       "      <td>665.894366</td>\n",
       "      <td>142</td>\n",
       "    </tr>\n",
       "    <tr>\n",
       "      <th>loft</th>\n",
       "      <td>71</td>\n",
       "      <td>6000</td>\n",
       "      <td>1027.694716</td>\n",
       "      <td>511</td>\n",
       "    </tr>\n",
       "    <tr>\n",
       "      <th>manufactured</th>\n",
       "      <td>0</td>\n",
       "      <td>46561</td>\n",
       "      <td>1172.200403</td>\n",
       "      <td>2974</td>\n",
       "    </tr>\n",
       "    <tr>\n",
       "      <th>townhouse</th>\n",
       "      <td>0</td>\n",
       "      <td>72916</td>\n",
       "      <td>1278.813974</td>\n",
       "      <td>10348</td>\n",
       "    </tr>\n",
       "  </tbody>\n",
       "</table>\n",
       "</div>"
      ],
      "text/plain": [
       "              sqfeet                            id\n",
       "                 min      max         mean   count\n",
       "type                                              \n",
       "apartment          0  8388607  1018.662668  216733\n",
       "condo              1    99202  1132.139814    4835\n",
       "cottage/cabin      0     9600   789.913941     581\n",
       "duplex             0   999999  1427.706446    3444\n",
       "flat               1     3000   991.151862     349\n",
       "house              0  1019856  1601.168398   23581\n",
       "in-law           150     1450   665.894366     142\n",
       "loft              71     6000  1027.694716     511\n",
       "manufactured       0    46561  1172.200403    2974\n",
       "townhouse          0    72916  1278.813974   10348"
      ]
     },
     "execution_count": 70,
     "metadata": {},
     "output_type": "execute_result"
    }
   ],
   "source": [
    "df.groupby('type').agg({'sqfeet': ['min', 'max', 'mean'], 'id': 'count'})"
   ]
  },
  {
   "cell_type": "code",
   "execution_count": 72,
   "id": "c5aff718-0874-448f-8af1-b6237ee59577",
   "metadata": {},
   "outputs": [
    {
     "data": {
      "text/plain": [
       "<Axes: ylabel='Frequency'>"
      ]
     },
     "execution_count": 72,
     "metadata": {},
     "output_type": "execute_result"
    },
    {
     "data": {
      "image/png": "[encoded data removed]",
      "text/plain": [
       "<Figure size 640x480 with 1 Axes>"
      ]
     },
     "metadata": {},
     "output_type": "display_data"
    }
   ],
   "source": [
    "df['sqfeet'].plot.hist(bins=60, alpha=0.5)"
   ]
  },
  {
   "cell_type": "code",
   "execution_count": 74,
   "id": "d51019b7-00f3-4c06-b1ff-3d4f82d100a9",
   "metadata": {},
   "outputs": [
    {
     "data": {
      "text/plain": [
       "<Axes: ylabel='Frequency'>"
      ]
     },
     "execution_count": 74,
     "metadata": {},
     "output_type": "execute_result"
    },
    {
     "data": {
      "image/png": "[encoded data removed]",
      "text/plain": [
       "<Figure size 640x480 with 1 Axes>"
      ]
     },
     "metadata": {},
     "output_type": "display_data"
    }
   ],
   "source": [
    "df[(df['sqfeet'] > 200) & (df['sqfeet'] < 4000 ) ]['sqfeet'].plot.hist(bins=60, alpha=0.5)"
   ]
  },
  {
   "cell_type": "code",
   "execution_count": 75,
   "id": "ed024e1b-6fe7-4453-a0bd-2fcefc8fe8d6",
   "metadata": {},
   "outputs": [
    {
     "name": "stdout",
     "output_type": "stream",
     "text": [
      "(263498, 22)\n",
      "(262343, 22)\n"
     ]
    }
   ],
   "source": [
    "print(df.shape)\n",
    "df = df[(df['sqfeet'] > 200) & (df['sqfeet'] < 4000 ) ]\n",
    "print(df.shape)"
   ]
  },
  {
   "cell_type": "markdown",
   "id": "1c6686af-2ec2-4aa8-97e2-63fc5c4fef31",
   "metadata": {},
   "source": [
    "## beds"
   ]
  },
  {
   "cell_type": "code",
   "execution_count": 78,
   "id": "24840f58-43d9-45a8-a86e-fc318506589c",
   "metadata": {},
   "outputs": [
    {
     "data": {
      "text/plain": [
       "(0, 1100)"
      ]
     },
     "execution_count": 78,
     "metadata": {},
     "output_type": "execute_result"
    }
   ],
   "source": [
    "df['beds'].min(), df['beds'].max()"
   ]
  },
  {
   "cell_type": "code",
   "execution_count": 80,
   "id": "031c8937-4dd9-4005-b8c4-8754846fbae9",
   "metadata": {},
   "outputs": [
    {
     "data": {
      "text/plain": [
       "126923    1100\n",
       "125920    1100\n",
       "241087       8\n",
       "139183       8\n",
       "120739       8\n",
       "Name: beds, dtype: int64"
      ]
     },
     "execution_count": 80,
     "metadata": {},
     "output_type": "execute_result"
    }
   ],
   "source": [
    "df['beds'].sort_values(ascending = False).head(5)"
   ]
  },
  {
   "cell_type": "code",
   "execution_count": 84,
   "id": "fa699877-5b9d-4cc6-9922-20297d3c119e",
   "metadata": {},
   "outputs": [
    {
     "data": {
      "text/plain": [
       "0         7421\n",
       "1        79679\n",
       "2       119122\n",
       "3        46500\n",
       "4         7976\n",
       "5         1454\n",
       "6          149\n",
       "7           24\n",
       "8           16\n",
       "1100         2\n",
       "Name: beds, dtype: int64"
      ]
     },
     "execution_count": 84,
     "metadata": {},
     "output_type": "execute_result"
    }
   ],
   "source": [
    "df['beds'].value_counts().sort_index()"
   ]
  },
  {
   "cell_type": "code",
   "execution_count": 85,
   "id": "58e497dc-f42c-40db-a829-dcaf719fabce",
   "metadata": {},
   "outputs": [
    {
     "name": "stdout",
     "output_type": "stream",
     "text": [
      "(262343, 22)\n",
      "(262341, 22)\n"
     ]
    }
   ],
   "source": [
    "print(df.shape)\n",
    "df = df[df['beds'] <= 10]\n",
    "print(df.shape)"
   ]
  },
  {
   "cell_type": "code",
   "execution_count": 89,
   "id": "106fd6b9-2a5d-404d-b5e3-c422946bb558",
   "metadata": {},
   "outputs": [
    {
     "data": {
      "text/plain": [
       "<Axes: ylabel='Frequency'>"
      ]
     },
     "execution_count": 89,
     "metadata": {},
     "output_type": "execute_result"
    },
    {
     "data": {
      "image/png": "[encoded data removed]",
      "text/plain": [
       "<Figure size 640x480 with 1 Axes>"
      ]
     },
     "metadata": {},
     "output_type": "display_data"
    }
   ],
   "source": [
    "df['beds'].plot.hist(bins=20, alpha=0.5)"
   ]
  },
  {
   "cell_type": "markdown",
   "id": "cfcbd664-8dcf-4161-80c4-3eef3b632692",
   "metadata": {},
   "source": [
    "## baths"
   ]
  },
  {
   "cell_type": "code",
   "execution_count": 90,
   "id": "16610ba4-4175-40ed-9a3b-b9ab48aec662",
   "metadata": {},
   "outputs": [
    {
     "data": {
      "text/plain": [
       "(0.0, 6.0)"
      ]
     },
     "execution_count": 90,
     "metadata": {},
     "output_type": "execute_result"
    }
   ],
   "source": [
    "df['baths'].min(), df['baths'].max()"
   ]
  },
  {
   "cell_type": "code",
   "execution_count": 92,
   "id": "d5365e96-351e-4f66-9cfc-dedcc7706d12",
   "metadata": {},
   "outputs": [
    {
     "data": {
      "text/plain": [
       "0.0      1998\n",
       "1.0    134789\n",
       "1.5     18352\n",
       "2.0     93089\n",
       "2.5      8116\n",
       "3.0      4172\n",
       "3.5       592\n",
       "4.0      1053\n",
       "4.5       104\n",
       "5.0        52\n",
       "5.5        16\n",
       "6.0         8\n",
       "Name: baths, dtype: int64"
      ]
     },
     "execution_count": 92,
     "metadata": {},
     "output_type": "execute_result"
    }
   ],
   "source": [
    "df['baths'].value_counts().sort_index()"
   ]
  },
  {
   "cell_type": "code",
   "execution_count": 94,
   "id": "b4641b92-49ef-47dd-89f7-804fdae4905c",
   "metadata": {
    "collapsed": true,
    "jupyter": {
     "outputs_hidden": true
    },
    "tags": []
   },
   "outputs": [
    {
     "data": {
      "text/html": [
       "<div>\n",
       "<style scoped>\n",
       "    .dataframe tbody tr th:only-of-type {\n",
       "        vertical-align: middle;\n",
       "    }\n",
       "\n",
       "    .dataframe tbody tr th {\n",
       "        vertical-align: top;\n",
       "    }\n",
       "\n",
       "    .dataframe thead th {\n",
       "        text-align: right;\n",
       "    }\n",
       "</style>\n",
       "<table border=\"1\" class=\"dataframe\">\n",
       "  <thead>\n",
       "    <tr style=\"text-align: right;\">\n",
       "      <th></th>\n",
       "      <th>id</th>\n",
       "      <th>url</th>\n",
       "      <th>region</th>\n",
       "      <th>region_url</th>\n",
       "      <th>price</th>\n",
       "      <th>type</th>\n",
       "      <th>sqfeet</th>\n",
       "      <th>beds</th>\n",
       "      <th>baths</th>\n",
       "      <th>cats_allowed</th>\n",
       "      <th>...</th>\n",
       "      <th>wheelchair_access</th>\n",
       "      <th>electric_vehicle_charge</th>\n",
       "      <th>comes_furnished</th>\n",
       "      <th>laundry_options</th>\n",
       "      <th>parking_options</th>\n",
       "      <th>image_url</th>\n",
       "      <th>description</th>\n",
       "      <th>lat</th>\n",
       "      <th>long</th>\n",
       "      <th>state</th>\n",
       "    </tr>\n",
       "  </thead>\n",
       "  <tbody>\n",
       "    <tr>\n",
       "      <th>194</th>\n",
       "      <td>7041528837</td>\n",
       "      <td>https://bham.craigslist.org/apa/d/birmingham-c...</td>\n",
       "      <td>birmingham</td>\n",
       "      <td>https://bham.craigslist.org</td>\n",
       "      <td>879</td>\n",
       "      <td>apartment</td>\n",
       "      <td>984</td>\n",
       "      <td>2</td>\n",
       "      <td>0.0</td>\n",
       "      <td>1</td>\n",
       "      <td>...</td>\n",
       "      <td>0</td>\n",
       "      <td>0</td>\n",
       "      <td>0</td>\n",
       "      <td>w/d hookups</td>\n",
       "      <td>NaN</td>\n",
       "      <td>https://images.craigslist.org/00h0h_8cKIus9kLb...</td>\n",
       "      <td>Location: 800 Valleyview Rd - Pelham, AL 35124...</td>\n",
       "      <td>33.3125</td>\n",
       "      <td>-86.8150</td>\n",
       "      <td>al</td>\n",
       "    </tr>\n",
       "    <tr>\n",
       "      <th>602</th>\n",
       "      <td>7047409484</td>\n",
       "      <td>https://dothan.craigslist.org/apa/d/dothan-the...</td>\n",
       "      <td>dothan</td>\n",
       "      <td>https://dothan.craigslist.org</td>\n",
       "      <td>850</td>\n",
       "      <td>apartment</td>\n",
       "      <td>744</td>\n",
       "      <td>1</td>\n",
       "      <td>0.0</td>\n",
       "      <td>1</td>\n",
       "      <td>...</td>\n",
       "      <td>0</td>\n",
       "      <td>0</td>\n",
       "      <td>0</td>\n",
       "      <td>w/d hookups</td>\n",
       "      <td>street parking</td>\n",
       "      <td>https://images.craigslist.org/00Z0Z_jLYz2Ti9ah...</td>\n",
       "      <td>At The Park at Ashburn, you are next door to W...</td>\n",
       "      <td>31.2668</td>\n",
       "      <td>-85.3971</td>\n",
       "      <td>al</td>\n",
       "    </tr>\n",
       "    <tr>\n",
       "      <th>606</th>\n",
       "      <td>7046758965</td>\n",
       "      <td>https://dothan.craigslist.org/apa/d/dothan-the...</td>\n",
       "      <td>dothan</td>\n",
       "      <td>https://dothan.craigslist.org</td>\n",
       "      <td>864</td>\n",
       "      <td>apartment</td>\n",
       "      <td>977</td>\n",
       "      <td>2</td>\n",
       "      <td>0.0</td>\n",
       "      <td>1</td>\n",
       "      <td>...</td>\n",
       "      <td>0</td>\n",
       "      <td>0</td>\n",
       "      <td>0</td>\n",
       "      <td>w/d hookups</td>\n",
       "      <td>street parking</td>\n",
       "      <td>https://images.craigslist.org/00X0X_e4Y4Zdjs5P...</td>\n",
       "      <td>Call today to schedule a tour to come visit ou...</td>\n",
       "      <td>31.2668</td>\n",
       "      <td>-85.3971</td>\n",
       "      <td>al</td>\n",
       "    </tr>\n",
       "    <tr>\n",
       "      <th>610</th>\n",
       "      <td>7045421204</td>\n",
       "      <td>https://dothan.craigslist.org/apa/d/dothan-the...</td>\n",
       "      <td>dothan</td>\n",
       "      <td>https://dothan.craigslist.org</td>\n",
       "      <td>850</td>\n",
       "      <td>apartment</td>\n",
       "      <td>724</td>\n",
       "      <td>1</td>\n",
       "      <td>0.0</td>\n",
       "      <td>1</td>\n",
       "      <td>...</td>\n",
       "      <td>0</td>\n",
       "      <td>0</td>\n",
       "      <td>0</td>\n",
       "      <td>w/d hookups</td>\n",
       "      <td>street parking</td>\n",
       "      <td>https://images.craigslist.org/00X0X_e4Y4Zdjs5P...</td>\n",
       "      <td>We would like to welcome you to come tour our ...</td>\n",
       "      <td>31.2668</td>\n",
       "      <td>-85.3971</td>\n",
       "      <td>al</td>\n",
       "    </tr>\n",
       "    <tr>\n",
       "      <th>611</th>\n",
       "      <td>7045408884</td>\n",
       "      <td>https://dothan.craigslist.org/apa/d/dothan-the...</td>\n",
       "      <td>dothan</td>\n",
       "      <td>https://dothan.craigslist.org</td>\n",
       "      <td>864</td>\n",
       "      <td>apartment</td>\n",
       "      <td>977</td>\n",
       "      <td>2</td>\n",
       "      <td>0.0</td>\n",
       "      <td>1</td>\n",
       "      <td>...</td>\n",
       "      <td>0</td>\n",
       "      <td>0</td>\n",
       "      <td>0</td>\n",
       "      <td>w/d hookups</td>\n",
       "      <td>street parking</td>\n",
       "      <td>https://images.craigslist.org/00X0X_e4Y4Zdjs5P...</td>\n",
       "      <td>At The Park at Ashburn you are just minutes fr...</td>\n",
       "      <td>31.2668</td>\n",
       "      <td>-85.3971</td>\n",
       "      <td>al</td>\n",
       "    </tr>\n",
       "    <tr>\n",
       "      <th>...</th>\n",
       "      <td>...</td>\n",
       "      <td>...</td>\n",
       "      <td>...</td>\n",
       "      <td>...</td>\n",
       "      <td>...</td>\n",
       "      <td>...</td>\n",
       "      <td>...</td>\n",
       "      <td>...</td>\n",
       "      <td>...</td>\n",
       "      <td>...</td>\n",
       "      <td>...</td>\n",
       "      <td>...</td>\n",
       "      <td>...</td>\n",
       "      <td>...</td>\n",
       "      <td>...</td>\n",
       "      <td>...</td>\n",
       "      <td>...</td>\n",
       "      <td>...</td>\n",
       "      <td>...</td>\n",
       "      <td>...</td>\n",
       "      <td>...</td>\n",
       "    </tr>\n",
       "    <tr>\n",
       "      <th>265014</th>\n",
       "      <td>7051028621</td>\n",
       "      <td>https://columbus.craigslist.org/apa/d/columbus...</td>\n",
       "      <td>columbus</td>\n",
       "      <td>https://columbus.craigslist.org</td>\n",
       "      <td>975</td>\n",
       "      <td>apartment</td>\n",
       "      <td>933</td>\n",
       "      <td>2</td>\n",
       "      <td>0.0</td>\n",
       "      <td>1</td>\n",
       "      <td>...</td>\n",
       "      <td>0</td>\n",
       "      <td>0</td>\n",
       "      <td>0</td>\n",
       "      <td>w/d in unit</td>\n",
       "      <td>off-street parking</td>\n",
       "      <td>https://images.craigslist.org/00D0D_dfGKjYrryl...</td>\n",
       "      <td>The Attleigh1121 Mirror Lake PlaceColumbus, OH...</td>\n",
       "      <td>39.9648</td>\n",
       "      <td>-83.1260</td>\n",
       "      <td>oh</td>\n",
       "    </tr>\n",
       "    <tr>\n",
       "      <th>265015</th>\n",
       "      <td>7051028463</td>\n",
       "      <td>https://columbus.craigslist.org/apa/d/columbus...</td>\n",
       "      <td>columbus</td>\n",
       "      <td>https://columbus.craigslist.org</td>\n",
       "      <td>970</td>\n",
       "      <td>apartment</td>\n",
       "      <td>933</td>\n",
       "      <td>2</td>\n",
       "      <td>0.0</td>\n",
       "      <td>1</td>\n",
       "      <td>...</td>\n",
       "      <td>0</td>\n",
       "      <td>0</td>\n",
       "      <td>0</td>\n",
       "      <td>w/d in unit</td>\n",
       "      <td>off-street parking</td>\n",
       "      <td>https://images.craigslist.org/00U0U_1QE0ITiaic...</td>\n",
       "      <td>The Attleigh1121 Mirror Lake PlaceColumbus, OH...</td>\n",
       "      <td>39.9648</td>\n",
       "      <td>-83.1260</td>\n",
       "      <td>oh</td>\n",
       "    </tr>\n",
       "    <tr>\n",
       "      <th>265016</th>\n",
       "      <td>7051028277</td>\n",
       "      <td>https://columbus.craigslist.org/apa/d/columbus...</td>\n",
       "      <td>columbus</td>\n",
       "      <td>https://columbus.craigslist.org</td>\n",
       "      <td>805</td>\n",
       "      <td>apartment</td>\n",
       "      <td>678</td>\n",
       "      <td>1</td>\n",
       "      <td>0.0</td>\n",
       "      <td>1</td>\n",
       "      <td>...</td>\n",
       "      <td>0</td>\n",
       "      <td>0</td>\n",
       "      <td>0</td>\n",
       "      <td>w/d in unit</td>\n",
       "      <td>off-street parking</td>\n",
       "      <td>https://images.craigslist.org/00j0j_1CAhhi3zfJ...</td>\n",
       "      <td>The Attleigh1121 Mirror Lake PlaceColumbus, OH...</td>\n",
       "      <td>39.9648</td>\n",
       "      <td>-83.1260</td>\n",
       "      <td>oh</td>\n",
       "    </tr>\n",
       "    <tr>\n",
       "      <th>265071</th>\n",
       "      <td>7050972729</td>\n",
       "      <td>https://columbus.craigslist.org/apa/d/blacklic...</td>\n",
       "      <td>columbus</td>\n",
       "      <td>https://columbus.craigslist.org</td>\n",
       "      <td>979</td>\n",
       "      <td>apartment</td>\n",
       "      <td>1187</td>\n",
       "      <td>2</td>\n",
       "      <td>0.0</td>\n",
       "      <td>1</td>\n",
       "      <td>...</td>\n",
       "      <td>0</td>\n",
       "      <td>0</td>\n",
       "      <td>0</td>\n",
       "      <td>NaN</td>\n",
       "      <td>NaN</td>\n",
       "      <td>https://images.craigslist.org/00I0I_jLdghdbcFo...</td>\n",
       "      <td>Call  show contact info   if you have any ques...</td>\n",
       "      <td>40.0210</td>\n",
       "      <td>-82.8079</td>\n",
       "      <td>oh</td>\n",
       "    </tr>\n",
       "    <tr>\n",
       "      <th>265139</th>\n",
       "      <td>7041976641</td>\n",
       "      <td>https://columbus.craigslist.org/apa/d/columbus...</td>\n",
       "      <td>columbus</td>\n",
       "      <td>https://columbus.craigslist.org</td>\n",
       "      <td>540</td>\n",
       "      <td>apartment</td>\n",
       "      <td>588</td>\n",
       "      <td>1</td>\n",
       "      <td>0.0</td>\n",
       "      <td>0</td>\n",
       "      <td>...</td>\n",
       "      <td>0</td>\n",
       "      <td>0</td>\n",
       "      <td>0</td>\n",
       "      <td>laundry in bldg</td>\n",
       "      <td>off-street parking</td>\n",
       "      <td>https://images.craigslist.org/00J0J_dajJwqEkzj...</td>\n",
       "      <td>LARGE (588 SQFT) ONE BEDROOM APARTMENT!  ONLY ...</td>\n",
       "      <td>39.9747</td>\n",
       "      <td>-82.8883</td>\n",
       "      <td>oh</td>\n",
       "    </tr>\n",
       "  </tbody>\n",
       "</table>\n",
       "<p>1998 rows × 22 columns</p>\n",
       "</div>"
      ],
      "text/plain": [
       "                id                                                url  \\\n",
       "194     7041528837  https://bham.craigslist.org/apa/d/birmingham-c...   \n",
       "602     7047409484  https://dothan.craigslist.org/apa/d/dothan-the...   \n",
       "606     7046758965  https://dothan.craigslist.org/apa/d/dothan-the...   \n",
       "610     7045421204  https://dothan.craigslist.org/apa/d/dothan-the...   \n",
       "611     7045408884  https://dothan.craigslist.org/apa/d/dothan-the...   \n",
       "...            ...                                                ...   \n",
       "265014  7051028621  https://columbus.craigslist.org/apa/d/columbus...   \n",
       "265015  7051028463  https://columbus.craigslist.org/apa/d/columbus...   \n",
       "265016  7051028277  https://columbus.craigslist.org/apa/d/columbus...   \n",
       "265071  7050972729  https://columbus.craigslist.org/apa/d/blacklic...   \n",
       "265139  7041976641  https://columbus.craigslist.org/apa/d/columbus...   \n",
       "\n",
       "            region                       region_url  price       type  sqfeet  \\\n",
       "194     birmingham      https://bham.craigslist.org    879  apartment     984   \n",
       "602         dothan    https://dothan.craigslist.org    850  apartment     744   \n",
       "606         dothan    https://dothan.craigslist.org    864  apartment     977   \n",
       "610         dothan    https://dothan.craigslist.org    850  apartment     724   \n",
       "611         dothan    https://dothan.craigslist.org    864  apartment     977   \n",
       "...            ...                              ...    ...        ...     ...   \n",
       "265014    columbus  https://columbus.craigslist.org    975  apartment     933   \n",
       "265015    columbus  https://columbus.craigslist.org    970  apartment     933   \n",
       "265016    columbus  https://columbus.craigslist.org    805  apartment     678   \n",
       "265071    columbus  https://columbus.craigslist.org    979  apartment    1187   \n",
       "265139    columbus  https://columbus.craigslist.org    540  apartment     588   \n",
       "\n",
       "        beds  baths  cats_allowed  ...  wheelchair_access  \\\n",
       "194        2    0.0             1  ...                  0   \n",
       "602        1    0.0             1  ...                  0   \n",
       "606        2    0.0             1  ...                  0   \n",
       "610        1    0.0             1  ...                  0   \n",
       "611        2    0.0             1  ...                  0   \n",
       "...      ...    ...           ...  ...                ...   \n",
       "265014     2    0.0             1  ...                  0   \n",
       "265015     2    0.0             1  ...                  0   \n",
       "265016     1    0.0             1  ...                  0   \n",
       "265071     2    0.0             1  ...                  0   \n",
       "265139     1    0.0             0  ...                  0   \n",
       "\n",
       "        electric_vehicle_charge  comes_furnished  laundry_options  \\\n",
       "194                           0                0      w/d hookups   \n",
       "602                           0                0      w/d hookups   \n",
       "606                           0                0      w/d hookups   \n",
       "610                           0                0      w/d hookups   \n",
       "611                           0                0      w/d hookups   \n",
       "...                         ...              ...              ...   \n",
       "265014                        0                0      w/d in unit   \n",
       "265015                        0                0      w/d in unit   \n",
       "265016                        0                0      w/d in unit   \n",
       "265071                        0                0              NaN   \n",
       "265139                        0                0  laundry in bldg   \n",
       "\n",
       "           parking_options                                          image_url  \\\n",
       "194                    NaN  https://images.craigslist.org/00h0h_8cKIus9kLb...   \n",
       "602         street parking  https://images.craigslist.org/00Z0Z_jLYz2Ti9ah...   \n",
       "606         street parking  https://images.craigslist.org/00X0X_e4Y4Zdjs5P...   \n",
       "610         street parking  https://images.craigslist.org/00X0X_e4Y4Zdjs5P...   \n",
       "611         street parking  https://images.craigslist.org/00X0X_e4Y4Zdjs5P...   \n",
       "...                    ...                                                ...   \n",
       "265014  off-street parking  https://images.craigslist.org/00D0D_dfGKjYrryl...   \n",
       "265015  off-street parking  https://images.craigslist.org/00U0U_1QE0ITiaic...   \n",
       "265016  off-street parking  https://images.craigslist.org/00j0j_1CAhhi3zfJ...   \n",
       "265071                 NaN  https://images.craigslist.org/00I0I_jLdghdbcFo...   \n",
       "265139  off-street parking  https://images.craigslist.org/00J0J_dajJwqEkzj...   \n",
       "\n",
       "                                              description      lat     long  \\\n",
       "194     Location: 800 Valleyview Rd - Pelham, AL 35124...  33.3125 -86.8150   \n",
       "602     At The Park at Ashburn, you are next door to W...  31.2668 -85.3971   \n",
       "606     Call today to schedule a tour to come visit ou...  31.2668 -85.3971   \n",
       "610     We would like to welcome you to come tour our ...  31.2668 -85.3971   \n",
       "611     At The Park at Ashburn you are just minutes fr...  31.2668 -85.3971   \n",
       "...                                                   ...      ...      ...   \n",
       "265014  The Attleigh1121 Mirror Lake PlaceColumbus, OH...  39.9648 -83.1260   \n",
       "265015  The Attleigh1121 Mirror Lake PlaceColumbus, OH...  39.9648 -83.1260   \n",
       "265016  The Attleigh1121 Mirror Lake PlaceColumbus, OH...  39.9648 -83.1260   \n",
       "265071  Call  show contact info   if you have any ques...  40.0210 -82.8079   \n",
       "265139  LARGE (588 SQFT) ONE BEDROOM APARTMENT!  ONLY ...  39.9747 -82.8883   \n",
       "\n",
       "        state  \n",
       "194        al  \n",
       "602        al  \n",
       "606        al  \n",
       "610        al  \n",
       "611        al  \n",
       "...       ...  \n",
       "265014     oh  \n",
       "265015     oh  \n",
       "265016     oh  \n",
       "265071     oh  \n",
       "265139     oh  \n",
       "\n",
       "[1998 rows x 22 columns]"
      ]
     },
     "execution_count": 94,
     "metadata": {},
     "output_type": "execute_result"
    }
   ],
   "source": [
    "df[df['baths'] == 0]"
   ]
  },
  {
   "cell_type": "code",
   "execution_count": 85,
   "id": "925d5572-8fa4-4dd3-b3ce-971c14585067",
   "metadata": {},
   "outputs": [
    {
     "name": "stdout",
     "output_type": "stream",
     "text": [
      "(262343, 22)\n",
      "(262341, 22)\n"
     ]
    }
   ],
   "source": [
    "# print(df.shape)\n",
    "# df = df[df['beds'] <= 10]\n",
    "# print(df.shape)"
   ]
  },
  {
   "cell_type": "code",
   "execution_count": 93,
   "id": "66351382-d3cd-4bad-9ea3-2b353ec53ea0",
   "metadata": {},
   "outputs": [
    {
     "data": {
      "text/plain": [
       "<Axes: ylabel='Frequency'>"
      ]
     },
     "execution_count": 93,
     "metadata": {},
     "output_type": "execute_result"
    },
    {
     "data": {
      "image/png": "[encoded data removed]",
      "text/plain": [
       "<Figure size 640x480 with 1 Axes>"
      ]
     },
     "metadata": {},
     "output_type": "display_data"
    }
   ],
   "source": [
    "df['baths'].plot.hist(bins=20, alpha=0.5)"
   ]
  },
  {
   "cell_type": "markdown",
   "id": "aa1306c6-2686-4a15-b69b-2138f3365582",
   "metadata": {},
   "source": [
    "## Cat variable"
   ]
  },
  {
   "cell_type": "code",
   "execution_count": 95,
   "id": "295b96d8-f38c-43d5-a54a-878e49aa8359",
   "metadata": {},
   "outputs": [
    {
     "data": {
      "text/plain": [
       "0     73848\n",
       "1    188493\n",
       "Name: cats_allowed, dtype: int64"
      ]
     },
     "execution_count": 95,
     "metadata": {},
     "output_type": "execute_result"
    }
   ],
   "source": [
    "df['cats_allowed'].value_counts().sort_index()"
   ]
  },
  {
   "cell_type": "code",
   "execution_count": 97,
   "id": "49d3c5a9-6546-46e9-81ee-9972a759c88f",
   "metadata": {},
   "outputs": [
    {
     "data": {
      "text/plain": [
       "0     79215\n",
       "1    183126\n",
       "Name: dogs_allowed, dtype: int64"
      ]
     },
     "execution_count": 97,
     "metadata": {},
     "output_type": "execute_result"
    }
   ],
   "source": [
    "df['dogs_allowed'].value_counts().sort_index()"
   ]
  },
  {
   "cell_type": "code",
   "execution_count": 98,
   "id": "2f849a35-4199-4d71-a1c6-c7c5a7d9e210",
   "metadata": {},
   "outputs": [
    {
     "data": {
      "text/plain": [
       "0     69553\n",
       "1    192788\n",
       "Name: smoking_allowed, dtype: int64"
      ]
     },
     "execution_count": 98,
     "metadata": {},
     "output_type": "execute_result"
    }
   ],
   "source": [
    "df['smoking_allowed'].value_counts().sort_index()"
   ]
  },
  {
   "cell_type": "code",
   "execution_count": 99,
   "id": "ef31e0dc-1cef-4611-b12a-44bb2823b56e",
   "metadata": {},
   "outputs": [
    {
     "data": {
      "text/plain": [
       "0    241672\n",
       "1     20669\n",
       "Name: wheelchair_access, dtype: int64"
      ]
     },
     "execution_count": 99,
     "metadata": {},
     "output_type": "execute_result"
    }
   ],
   "source": [
    "df['wheelchair_access'].value_counts().sort_index()"
   ]
  },
  {
   "cell_type": "code",
   "execution_count": 100,
   "id": "058e89da-643d-4d48-bde9-fcffe775e499",
   "metadata": {},
   "outputs": [
    {
     "data": {
      "text/plain": [
       "0    258559\n",
       "1      3782\n",
       "Name: electric_vehicle_charge, dtype: int64"
      ]
     },
     "execution_count": 100,
     "metadata": {},
     "output_type": "execute_result"
    }
   ],
   "source": [
    "df['electric_vehicle_charge'].value_counts().sort_index()"
   ]
  },
  {
   "cell_type": "code",
   "execution_count": 101,
   "id": "8c048190-b1a4-4062-b5ee-53b8087ede22",
   "metadata": {},
   "outputs": [
    {
     "data": {
      "text/plain": [
       "0    249767\n",
       "1     12574\n",
       "Name: comes_furnished, dtype: int64"
      ]
     },
     "execution_count": 101,
     "metadata": {},
     "output_type": "execute_result"
    }
   ],
   "source": [
    "df['comes_furnished'].value_counts().sort_index()"
   ]
  },
  {
   "cell_type": "markdown",
   "id": "3df7597c-d6de-449f-9822-b30296183f1b",
   "metadata": {},
   "source": [
    "## Laundry "
   ]
  },
  {
   "cell_type": "code",
   "execution_count": 102,
   "id": "b0e6bb66-2807-4265-9e61-3dc9aa2c2201",
   "metadata": {
    "tags": []
   },
   "outputs": [
    {
     "data": {
      "text/plain": [
       "laundry in bldg       27410\n",
       "laundry on site       38475\n",
       "no laundry on site     2484\n",
       "w/d hookups           49774\n",
       "w/d in unit           90246\n",
       "Name: laundry_options, dtype: int64"
      ]
     },
     "execution_count": 102,
     "metadata": {},
     "output_type": "execute_result"
    }
   ],
   "source": [
    "df['laundry_options'].value_counts().sort_index()"
   ]
  },
  {
   "cell_type": "code",
   "execution_count": 106,
   "id": "52048f24-c0f3-46a3-a883-06f644fdf379",
   "metadata": {},
   "outputs": [
    {
     "name": "stdout",
     "output_type": "stream",
     "text": [
      "(53952, 22)\n"
     ]
    }
   ],
   "source": [
    "print(df[df['laundry_options'].isnull()].shape)\n",
    "df.loc[df[\"laundry_options\"].isnull(), \"laundry_options\"] = 'no laundry on site'"
   ]
  },
  {
   "cell_type": "code",
   "execution_count": 107,
   "id": "3d5a3661-e2ae-46c9-b2a1-dfbd896bac08",
   "metadata": {},
   "outputs": [
    {
     "data": {
      "text/plain": [
       "laundry in bldg       27410\n",
       "laundry on site       38475\n",
       "no laundry on site    56436\n",
       "w/d hookups           49774\n",
       "w/d in unit           90246\n",
       "Name: laundry_options, dtype: int64"
      ]
     },
     "execution_count": 107,
     "metadata": {},
     "output_type": "execute_result"
    }
   ],
   "source": [
    "df['laundry_options'].value_counts().sort_index()"
   ]
  },
  {
   "cell_type": "markdown",
   "id": "d507093c-9f56-4442-849a-6cba871cd811",
   "metadata": {},
   "source": [
    "## Parking"
   ]
  },
  {
   "cell_type": "code",
   "execution_count": 108,
   "id": "f685fa20-93a6-499f-9aaa-7be2afd11453",
   "metadata": {
    "tags": []
   },
   "outputs": [
    {
     "data": {
      "text/plain": [
       "attached garage       27305\n",
       "carport               28240\n",
       "detached garage       12724\n",
       "no parking             1956\n",
       "off-street parking    87197\n",
       "street parking        10455\n",
       "valet parking           120\n",
       "Name: parking_options, dtype: int64"
      ]
     },
     "execution_count": 108,
     "metadata": {},
     "output_type": "execute_result"
    }
   ],
   "source": [
    "df['parking_options'].value_counts().sort_index()"
   ]
  },
  {
   "cell_type": "code",
   "execution_count": 110,
   "id": "9f8c4e96-8b17-4f5a-a6c2-84746ac6159f",
   "metadata": {},
   "outputs": [
    {
     "name": "stdout",
     "output_type": "stream",
     "text": [
      "(94344, 22)\n"
     ]
    }
   ],
   "source": [
    "print(df[df['parking_options'].isnull()].shape)\n",
    "df.loc[df[\"parking_options\"].isnull(), \"parking_options\"] = 'no parking'"
   ]
  },
  {
   "cell_type": "code",
   "execution_count": 112,
   "id": "17856da3-ca8f-4124-a498-2250fe7eec55",
   "metadata": {},
   "outputs": [
    {
     "data": {
      "text/plain": [
       "attached garage       27305\n",
       "carport               28240\n",
       "detached garage       12724\n",
       "no parking            96300\n",
       "off-street parking    87197\n",
       "street parking        10455\n",
       "valet parking           120\n",
       "Name: parking_options, dtype: int64"
      ]
     },
     "execution_count": 112,
     "metadata": {},
     "output_type": "execute_result"
    }
   ],
   "source": [
    "df['parking_options'].value_counts().sort_index()"
   ]
  },
  {
   "cell_type": "markdown",
   "id": "c14b493b-b0d2-4fe9-9b3d-a28a67dae879",
   "metadata": {},
   "source": [
    "## state"
   ]
  },
  {
   "cell_type": "code",
   "execution_count": 114,
   "id": "aafd115d-58c3-4d68-a7e2-6aa113950036",
   "metadata": {},
   "outputs": [
    {
     "data": {
      "text/plain": [
       "array(['al', 'ak', 'az', 'ar', 'ca', 'co', 'ct', 'dc', 'fl', 'de', 'ga',\n",
       "       'hi', 'id', 'il', 'in', 'ia', 'ks', 'ky', 'la', 'me', 'mi', 'md',\n",
       "       'ma', 'mn', 'ms', 'nc', 'mo', 'mt', 'ne', 'nv', 'nj', 'nm', 'ny',\n",
       "       'nh', 'oh', 'nd', 'ok', 'or', nan], dtype=object)"
      ]
     },
     "execution_count": 114,
     "metadata": {},
     "output_type": "execute_result"
    }
   ],
   "source": [
    "df['state'].unique()"
   ]
  },
  {
   "cell_type": "code",
   "execution_count": 115,
   "id": "d484e25a-0988-4034-b8bd-4c7748dcbaad",
   "metadata": {},
   "outputs": [],
   "source": [
    "df_states = pd.read_csv('states.csv')"
   ]
  },
  {
   "cell_type": "code",
   "execution_count": 121,
   "id": "6524efbd-25f1-4bec-8c12-741281c47d2b",
   "metadata": {},
   "outputs": [],
   "source": [
    "states = df_states['Abbreviation'].str.lower().tolist()\n"
   ]
  },
  {
   "cell_type": "code",
   "execution_count": 122,
   "id": "7aa99b0a-3cf4-486b-88bc-e256378e5e73",
   "metadata": {},
   "outputs": [
    {
     "data": {
      "text/plain": [
       "{nan}"
      ]
     },
     "execution_count": 122,
     "metadata": {},
     "output_type": "execute_result"
    }
   ],
   "source": [
    "set(df['state'].unique().tolist()) - set(states)"
   ]
  },
  {
   "cell_type": "code",
   "execution_count": 124,
   "id": "03d40397-7849-4f04-b9b2-c2164651a554",
   "metadata": {},
   "outputs": [
    {
     "name": "stdout",
     "output_type": "stream",
     "text": [
      "(262341, 22)\n",
      "(262340, 22)\n"
     ]
    }
   ],
   "source": [
    "print(df.shape)\n",
    "df = df[~df['state'].isnull()]\n",
    "print(df.shape)"
   ]
  },
  {
   "cell_type": "markdown",
   "id": "cd58bb6e-aaa7-43a3-aa82-49b3d4567329",
   "metadata": {},
   "source": [
    "## Drop cols"
   ]
  },
  {
   "cell_type": "code",
   "execution_count": 125,
   "id": "08b0ba89-fb07-489d-9d02-8fe312525135",
   "metadata": {},
   "outputs": [],
   "source": [
    "drop_cols = ['id', 'url', 'region', 'region_url', 'image_url', 'description', 'state' ]"
   ]
  },
  {
   "cell_type": "code",
   "execution_count": 126,
   "id": "e0aaa11a-cdb6-4ddb-aa9e-0c9f119b537a",
   "metadata": {},
   "outputs": [],
   "source": [
    "df = df.drop(drop_cols, axis = 1)"
   ]
  },
  {
   "cell_type": "code",
   "execution_count": 127,
   "id": "bdf0672d-2c3f-4666-9b5c-2ba012b8b4c8",
   "metadata": {},
   "outputs": [
    {
     "data": {
      "text/plain": [
       "Index(['price', 'type', 'sqfeet', 'beds', 'baths', 'cats_allowed',\n",
       "       'dogs_allowed', 'smoking_allowed', 'wheelchair_access',\n",
       "       'electric_vehicle_charge', 'comes_furnished', 'laundry_options',\n",
       "       'parking_options', 'lat', 'long'],\n",
       "      dtype='object')"
      ]
     },
     "execution_count": 127,
     "metadata": {},
     "output_type": "execute_result"
    }
   ],
   "source": [
    "df.columns"
   ]
  },
  {
   "cell_type": "code",
   "execution_count": 128,
   "id": "2cd3e5df-9e75-4a81-94c0-87347244c269",
   "metadata": {},
   "outputs": [
    {
     "data": {
      "text/plain": [
       "price                         0\n",
       "type                          0\n",
       "sqfeet                        0\n",
       "beds                          0\n",
       "baths                         0\n",
       "cats_allowed                  0\n",
       "dogs_allowed                  0\n",
       "smoking_allowed               0\n",
       "wheelchair_access             0\n",
       "electric_vehicle_charge       0\n",
       "comes_furnished               0\n",
       "laundry_options               0\n",
       "parking_options               0\n",
       "lat                        1403\n",
       "long                       1403\n",
       "dtype: int64"
      ]
     },
     "execution_count": 128,
     "metadata": {},
     "output_type": "execute_result"
    }
   ],
   "source": [
    "df.isnull().sum()"
   ]
  },
  {
   "cell_type": "code",
   "execution_count": 130,
   "id": "7d009ed7-fb78-493b-a02d-a35f226427de",
   "metadata": {},
   "outputs": [
    {
     "name": "stdout",
     "output_type": "stream",
     "text": [
      "(262340, 15)\n",
      "(260937, 15)\n"
     ]
    }
   ],
   "source": [
    "# drop missing values\n",
    "print(df.shape)\n",
    "df.dropna(inplace = True)\n",
    "print(df.shape)"
   ]
  },
  {
   "cell_type": "code",
   "execution_count": null,
   "id": "a6eebf9b-514f-4a22-8bce-b73c7bdee744",
   "metadata": {},
   "outputs": [],
   "source": [
    "# all cleaning code\n",
    "df = pd.read_csv('houseRent/housing_train.csv')\n",
    "print(df.shape)\n",
    "df = df[(df['price'] > 100) & (df['price'] < 10000 ) ]\n",
    "df = df[(df['type'] != 'assisted living') & (df['type'] != 'land')]\n",
    "df = df[(df['sqfeet'] > 200) & (df['sqfeet'] < 4000 ) ]\n",
    "df = df[df['beds'] <= 10]\n",
    "df.loc[df[\"laundry_options\"].isnull(), \"laundry_options\"] = 'no laundry on site'\n",
    "df.loc[df[\"parking_options\"].isnull(), \"parking_options\"] = 'no parking'\n",
    "\n",
    "drop_cols = ['id', 'url', 'region', 'region_url', 'image_url', 'description', 'state' ]\n",
    "df = df.drop(drop_cols, axis = 1)\n",
    "df.dropna(inplace = True)\n"
   ]
  }
 ],
 "metadata": {
  "kernelspec": {
   "display_name": "Python 3 (ipykernel)",
   "language": "python",
   "name": "python3"
  },
  "language_info": {
   "codemirror_mode": {
    "name": "ipython",
    "version": 3
   },
   "file_extension": ".py",
   "mimetype": "text/x-python",
   "name": "python",
   "nbconvert_exporter": "python",
   "pygments_lexer": "ipython3",
   "version": "3.9.18"
  }
 },
 "nbformat": 4,
 "nbformat_minor": 5
}
